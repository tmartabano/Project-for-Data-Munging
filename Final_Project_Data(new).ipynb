{
 "cells": [
  {
   "cell_type": "code",
   "execution_count": null,
   "id": "bed1a29b-022f-439a-a828-96d538545473",
   "metadata": {
    "tags": []
   },
   "outputs": [],
   "source": [
    "import pandas as pd\n",
    "import numpy as np\n",
    "import matplotlib.pyplot as plt\n"
   ]
  },
  {
   "cell_type": "code",
   "execution_count": 10,
   "id": "1290f91b-ee60-4acd-b3a0-23f0ca42890e",
   "metadata": {
    "tags": []
   },
   "outputs": [
    {
     "data": {
      "text/html": [
       "<div>\n",
       "<style scoped>\n",
       "    .dataframe tbody tr th:only-of-type {\n",
       "        vertical-align: middle;\n",
       "    }\n",
       "\n",
       "    .dataframe tbody tr th {\n",
       "        vertical-align: top;\n",
       "    }\n",
       "\n",
       "    .dataframe thead th {\n",
       "        text-align: right;\n",
       "    }\n",
       "</style>\n",
       "<table border=\"1\" class=\"dataframe\">\n",
       "  <thead>\n",
       "    <tr style=\"text-align: right;\">\n",
       "      <th></th>\n",
       "      <th>artist</th>\n",
       "      <th>song</th>\n",
       "      <th>duration_ms</th>\n",
       "      <th>explicit</th>\n",
       "      <th>year</th>\n",
       "      <th>popularity</th>\n",
       "      <th>danceability</th>\n",
       "      <th>energy</th>\n",
       "      <th>key</th>\n",
       "      <th>loudness</th>\n",
       "      <th>mode</th>\n",
       "      <th>speechiness</th>\n",
       "      <th>acousticness</th>\n",
       "      <th>instrumentalness</th>\n",
       "      <th>liveness</th>\n",
       "      <th>valence</th>\n",
       "      <th>tempo</th>\n",
       "      <th>genre</th>\n",
       "      <th>main_genre</th>\n",
       "    </tr>\n",
       "  </thead>\n",
       "  <tbody>\n",
       "    <tr>\n",
       "      <th>0</th>\n",
       "      <td>Britney Spears</td>\n",
       "      <td>Oops!...I Did It Again</td>\n",
       "      <td>211160</td>\n",
       "      <td>False</td>\n",
       "      <td>2000.0</td>\n",
       "      <td>77</td>\n",
       "      <td>0.751</td>\n",
       "      <td>0.834</td>\n",
       "      <td>1</td>\n",
       "      <td>-5.444</td>\n",
       "      <td>0</td>\n",
       "      <td>0.0437</td>\n",
       "      <td>0.3000</td>\n",
       "      <td>0.000018</td>\n",
       "      <td>0.3550</td>\n",
       "      <td>0.894</td>\n",
       "      <td>95.0</td>\n",
       "      <td>pop</td>\n",
       "      <td>pop</td>\n",
       "    </tr>\n",
       "    <tr>\n",
       "      <th>1</th>\n",
       "      <td>blink-182</td>\n",
       "      <td>All The Small Things</td>\n",
       "      <td>167066</td>\n",
       "      <td>False</td>\n",
       "      <td>1999.0</td>\n",
       "      <td>79</td>\n",
       "      <td>0.434</td>\n",
       "      <td>0.897</td>\n",
       "      <td>0</td>\n",
       "      <td>-4.918</td>\n",
       "      <td>1</td>\n",
       "      <td>0.0488</td>\n",
       "      <td>0.0103</td>\n",
       "      <td>0.000000</td>\n",
       "      <td>0.6120</td>\n",
       "      <td>0.684</td>\n",
       "      <td>149.0</td>\n",
       "      <td>rock, pop</td>\n",
       "      <td>rock</td>\n",
       "    </tr>\n",
       "    <tr>\n",
       "      <th>2</th>\n",
       "      <td>Faith Hill</td>\n",
       "      <td>Breathe</td>\n",
       "      <td>250546</td>\n",
       "      <td>False</td>\n",
       "      <td>1999.0</td>\n",
       "      <td>66</td>\n",
       "      <td>0.529</td>\n",
       "      <td>0.496</td>\n",
       "      <td>7</td>\n",
       "      <td>-9.007</td>\n",
       "      <td>1</td>\n",
       "      <td>0.0290</td>\n",
       "      <td>0.1730</td>\n",
       "      <td>0.000000</td>\n",
       "      <td>0.2510</td>\n",
       "      <td>0.278</td>\n",
       "      <td>137.0</td>\n",
       "      <td>pop, country</td>\n",
       "      <td>pop</td>\n",
       "    </tr>\n",
       "    <tr>\n",
       "      <th>3</th>\n",
       "      <td>Bon Jovi</td>\n",
       "      <td>It's My Life</td>\n",
       "      <td>224493</td>\n",
       "      <td>False</td>\n",
       "      <td>2000.0</td>\n",
       "      <td>78</td>\n",
       "      <td>0.551</td>\n",
       "      <td>0.913</td>\n",
       "      <td>0</td>\n",
       "      <td>-4.063</td>\n",
       "      <td>0</td>\n",
       "      <td>0.0466</td>\n",
       "      <td>0.0263</td>\n",
       "      <td>0.000013</td>\n",
       "      <td>0.3470</td>\n",
       "      <td>0.544</td>\n",
       "      <td>120.0</td>\n",
       "      <td>rock, metal</td>\n",
       "      <td>rock</td>\n",
       "    </tr>\n",
       "    <tr>\n",
       "      <th>4</th>\n",
       "      <td>*NSYNC</td>\n",
       "      <td>Bye Bye Bye</td>\n",
       "      <td>200560</td>\n",
       "      <td>False</td>\n",
       "      <td>2000.0</td>\n",
       "      <td>65</td>\n",
       "      <td>0.614</td>\n",
       "      <td>0.928</td>\n",
       "      <td>8</td>\n",
       "      <td>-4.806</td>\n",
       "      <td>0</td>\n",
       "      <td>0.0516</td>\n",
       "      <td>0.0408</td>\n",
       "      <td>0.001040</td>\n",
       "      <td>0.0845</td>\n",
       "      <td>0.879</td>\n",
       "      <td>173.0</td>\n",
       "      <td>pop</td>\n",
       "      <td>pop</td>\n",
       "    </tr>\n",
       "  </tbody>\n",
       "</table>\n",
       "</div>"
      ],
      "text/plain": [
       "           artist                    song  duration_ms  explicit    year  \\\n",
       "0  Britney Spears  Oops!...I Did It Again       211160     False  2000.0   \n",
       "1       blink-182    All The Small Things       167066     False  1999.0   \n",
       "2      Faith Hill                 Breathe       250546     False  1999.0   \n",
       "3        Bon Jovi            It's My Life       224493     False  2000.0   \n",
       "4          *NSYNC             Bye Bye Bye       200560     False  2000.0   \n",
       "\n",
       "   popularity  danceability  energy  key  loudness  mode  speechiness  \\\n",
       "0          77         0.751   0.834    1    -5.444     0       0.0437   \n",
       "1          79         0.434   0.897    0    -4.918     1       0.0488   \n",
       "2          66         0.529   0.496    7    -9.007     1       0.0290   \n",
       "3          78         0.551   0.913    0    -4.063     0       0.0466   \n",
       "4          65         0.614   0.928    8    -4.806     0       0.0516   \n",
       "\n",
       "   acousticness  instrumentalness  liveness  valence  tempo         genre  \\\n",
       "0        0.3000          0.000018    0.3550    0.894   95.0           pop   \n",
       "1        0.0103          0.000000    0.6120    0.684  149.0     rock, pop   \n",
       "2        0.1730          0.000000    0.2510    0.278  137.0  pop, country   \n",
       "3        0.0263          0.000013    0.3470    0.544  120.0   rock, metal   \n",
       "4        0.0408          0.001040    0.0845    0.879  173.0           pop   \n",
       "\n",
       "  main_genre  \n",
       "0        pop  \n",
       "1       rock  \n",
       "2        pop  \n",
       "3       rock  \n",
       "4        pop  "
      ]
     },
     "execution_count": 10,
     "metadata": {},
     "output_type": "execute_result"
    }
   ],
   "source": [
    "#loading the first dataset in \n",
    "\n",
    "url = 'https://github.com/tmartabano/Project-for-Data-Munging/raw/main/2000-2019.csv'\n",
    "df1 = pd.read_csv(url)\n",
    "df1.head()\n",
    "#standardizing some of the measures \n",
    "df1['tempo'] = df1['tempo'].round(0)\n",
    "df1['main_genre'] = df1['genre'].str.split(',').str[0]\n",
    "df1['year'] = df1['year'].astype(float)\n",
    "\n",
    "df1.head()"
   ]
  },
  {
   "cell_type": "code",
   "execution_count": 11,
   "id": "e5d44fe8-9435-4c4f-b608-06169a09ab38",
   "metadata": {
    "tags": []
   },
   "outputs": [
    {
     "data": {
      "text/html": [
       "<div>\n",
       "<style scoped>\n",
       "    .dataframe tbody tr th:only-of-type {\n",
       "        vertical-align: middle;\n",
       "    }\n",
       "\n",
       "    .dataframe tbody tr th {\n",
       "        vertical-align: top;\n",
       "    }\n",
       "\n",
       "    .dataframe thead th {\n",
       "        text-align: right;\n",
       "    }\n",
       "</style>\n",
       "<table border=\"1\" class=\"dataframe\">\n",
       "  <thead>\n",
       "    <tr style=\"text-align: right;\">\n",
       "      <th></th>\n",
       "      <th>Track URI</th>\n",
       "      <th>Track Name</th>\n",
       "      <th>Artist URI(s)</th>\n",
       "      <th>Artist Name(s)</th>\n",
       "      <th>Album URI</th>\n",
       "      <th>Album Name</th>\n",
       "      <th>Album Artist URI(s)</th>\n",
       "      <th>Album Artist Name(s)</th>\n",
       "      <th>Album Release Date</th>\n",
       "      <th>Album Image URL</th>\n",
       "      <th>...</th>\n",
       "      <th>Acousticness</th>\n",
       "      <th>Instrumentalness</th>\n",
       "      <th>Liveness</th>\n",
       "      <th>Valence</th>\n",
       "      <th>Tempo</th>\n",
       "      <th>Time Signature</th>\n",
       "      <th>Album Genres</th>\n",
       "      <th>Label</th>\n",
       "      <th>Copyrights</th>\n",
       "      <th>year</th>\n",
       "    </tr>\n",
       "  </thead>\n",
       "  <tbody>\n",
       "    <tr>\n",
       "      <th>9998</th>\n",
       "      <td>spotify:track:3iKuIfvoU50eww6EVzNqHo</td>\n",
       "      <td>Padam Padam</td>\n",
       "      <td>spotify:artist:4RVnAU35WRWra6OZ3CbbMA</td>\n",
       "      <td>Kylie Minogue</td>\n",
       "      <td>spotify:album:0OHc8STurn45gpk3dyIiw5</td>\n",
       "      <td>Padam Padam</td>\n",
       "      <td>spotify:artist:4RVnAU35WRWra6OZ3CbbMA</td>\n",
       "      <td>Kylie Minogue</td>\n",
       "      <td>5/19/23</td>\n",
       "      <td>https://i.scdn.co/image/ab67616d0000b2730536a8...</td>\n",
       "      <td>...</td>\n",
       "      <td>0.2140</td>\n",
       "      <td>0.001160</td>\n",
       "      <td>0.1030</td>\n",
       "      <td>0.711</td>\n",
       "      <td>128.0</td>\n",
       "      <td>4.0</td>\n",
       "      <td>NaN</td>\n",
       "      <td>Liberator Music</td>\n",
       "      <td>C 2023 Kylie Minogue/Darenote under exclusive ...</td>\n",
       "      <td>2023.0</td>\n",
       "    </tr>\n",
       "    <tr>\n",
       "      <th>9991</th>\n",
       "      <td>spotify:track:3AjSfp5FDvwtMU9XBsbS8j</td>\n",
       "      <td>Push Up - Main Edit</td>\n",
       "      <td>spotify:artist:2gW0M5fn2r7Lo4Hn1r8HZ5</td>\n",
       "      <td>Creeds</td>\n",
       "      <td>spotify:album:3v5BP6gPT1nNU9rjs57fF0</td>\n",
       "      <td>Push Up (Main Edit)</td>\n",
       "      <td>spotify:artist:2gW0M5fn2r7Lo4Hn1r8HZ5</td>\n",
       "      <td>Creeds</td>\n",
       "      <td>3/31/23</td>\n",
       "      <td>https://i.scdn.co/image/ab67616d0000b273b1f8e7...</td>\n",
       "      <td>...</td>\n",
       "      <td>0.2090</td>\n",
       "      <td>0.836000</td>\n",
       "      <td>0.0582</td>\n",
       "      <td>0.187</td>\n",
       "      <td>75.0</td>\n",
       "      <td>4.0</td>\n",
       "      <td>NaN</td>\n",
       "      <td>Columbia/B1 Recordings</td>\n",
       "      <td>P (P) 2023 Rave Alert Records, under exclusive...</td>\n",
       "      <td>2023.0</td>\n",
       "    </tr>\n",
       "    <tr>\n",
       "      <th>2428</th>\n",
       "      <td>spotify:track:3k79jB4aGmMDUQzEwa46Rz</td>\n",
       "      <td>vampire</td>\n",
       "      <td>spotify:artist:1McMsnEElThX1knmY4oliG</td>\n",
       "      <td>Olivia Rodrigo</td>\n",
       "      <td>spotify:album:5kqfR7EuGbyp8x27Pr1kY9</td>\n",
       "      <td>vampire</td>\n",
       "      <td>spotify:artist:1McMsnEElThX1knmY4oliG</td>\n",
       "      <td>Olivia Rodrigo</td>\n",
       "      <td>6/30/23</td>\n",
       "      <td>https://i.scdn.co/image/ab67616d0000b2731e5e75...</td>\n",
       "      <td>...</td>\n",
       "      <td>0.1690</td>\n",
       "      <td>0.000000</td>\n",
       "      <td>0.3110</td>\n",
       "      <td>0.322</td>\n",
       "      <td>138.0</td>\n",
       "      <td>4.0</td>\n",
       "      <td>NaN</td>\n",
       "      <td>Olivia Rodrigo PS</td>\n",
       "      <td>C © 2023 Olivia Rodrigo, under exclusive licen...</td>\n",
       "      <td>2023.0</td>\n",
       "    </tr>\n",
       "    <tr>\n",
       "      <th>9935</th>\n",
       "      <td>spotify:track:6UbNrW8X1v4oOR29vzSVqX</td>\n",
       "      <td>One Day At A Time</td>\n",
       "      <td>spotify:artist:2mF9PcfpN8vxRtCfra8hz1, spotify...</td>\n",
       "      <td>Thierry Von Der Warth, Jay Mason</td>\n",
       "      <td>spotify:album:5qrQjiR5PsDykstHLRAK23</td>\n",
       "      <td>One Day At A Time</td>\n",
       "      <td>spotify:artist:2mF9PcfpN8vxRtCfra8hz1, spotify...</td>\n",
       "      <td>Thierry Von Der Warth, Jay Mason</td>\n",
       "      <td>3/3/23</td>\n",
       "      <td>https://i.scdn.co/image/ab67616d0000b2734fe2e6...</td>\n",
       "      <td>...</td>\n",
       "      <td>0.2240</td>\n",
       "      <td>0.000135</td>\n",
       "      <td>0.1170</td>\n",
       "      <td>0.526</td>\n",
       "      <td>122.0</td>\n",
       "      <td>4.0</td>\n",
       "      <td>NaN</td>\n",
       "      <td>Paraiso</td>\n",
       "      <td>C 2023 Thierry Von Der Warth &amp; Jay Mason, P 20...</td>\n",
       "      <td>2023.0</td>\n",
       "    </tr>\n",
       "    <tr>\n",
       "      <th>7789</th>\n",
       "      <td>spotify:track:5eTaQYBE1yrActixMAeLcZ</td>\n",
       "      <td>Miracle (with Ellie Goulding)</td>\n",
       "      <td>spotify:artist:7CajNmpbOovFoOoasH2HaY, spotify...</td>\n",
       "      <td>Calvin Harris, Ellie Goulding</td>\n",
       "      <td>spotify:album:22UyygZceCIfoE0RhENgKx</td>\n",
       "      <td>Miracle (with Ellie Goulding)</td>\n",
       "      <td>spotify:artist:7CajNmpbOovFoOoasH2HaY, spotify...</td>\n",
       "      <td>Calvin Harris, Ellie Goulding</td>\n",
       "      <td>3/10/23</td>\n",
       "      <td>https://i.scdn.co/image/ab67616d0000b273c58e22...</td>\n",
       "      <td>...</td>\n",
       "      <td>0.0378</td>\n",
       "      <td>0.044600</td>\n",
       "      <td>0.0808</td>\n",
       "      <td>0.306</td>\n",
       "      <td>143.0</td>\n",
       "      <td>4.0</td>\n",
       "      <td>NaN</td>\n",
       "      <td>Columbia</td>\n",
       "      <td>P (P) 2023 Sony Music Entertainment UK Limited</td>\n",
       "      <td>2023.0</td>\n",
       "    </tr>\n",
       "    <tr>\n",
       "      <th>...</th>\n",
       "      <td>...</td>\n",
       "      <td>...</td>\n",
       "      <td>...</td>\n",
       "      <td>...</td>\n",
       "      <td>...</td>\n",
       "      <td>...</td>\n",
       "      <td>...</td>\n",
       "      <td>...</td>\n",
       "      <td>...</td>\n",
       "      <td>...</td>\n",
       "      <td>...</td>\n",
       "      <td>...</td>\n",
       "      <td>...</td>\n",
       "      <td>...</td>\n",
       "      <td>...</td>\n",
       "      <td>...</td>\n",
       "      <td>...</td>\n",
       "      <td>...</td>\n",
       "      <td>...</td>\n",
       "      <td>...</td>\n",
       "      <td>...</td>\n",
       "    </tr>\n",
       "    <tr>\n",
       "      <th>2356</th>\n",
       "      <td>spotify:track:33aYzW5ToRjiFOzkubeJ8H</td>\n",
       "      <td>Rave On</td>\n",
       "      <td>spotify:artist:3wYyutjgII8LJVVOLrGI0D, spotify...</td>\n",
       "      <td>Buddy Holly, The Crickets</td>\n",
       "      <td>spotify:album:4Qy0SOU9Jg7Td10K68SanP</td>\n",
       "      <td>Buddy Holly</td>\n",
       "      <td>spotify:artist:3wYyutjgII8LJVVOLrGI0D</td>\n",
       "      <td>Buddy Holly</td>\n",
       "      <td>1958</td>\n",
       "      <td>https://i.scdn.co/image/ab67616d0000b27358816b...</td>\n",
       "      <td>...</td>\n",
       "      <td>0.6110</td>\n",
       "      <td>0.000007</td>\n",
       "      <td>0.4170</td>\n",
       "      <td>0.961</td>\n",
       "      <td>160.0</td>\n",
       "      <td>4.0</td>\n",
       "      <td>NaN</td>\n",
       "      <td>Geffen</td>\n",
       "      <td>C © 1958 UMG Recordings Inc., P This Compilati...</td>\n",
       "      <td>1958.0</td>\n",
       "    </tr>\n",
       "    <tr>\n",
       "      <th>4106</th>\n",
       "      <td>spotify:track:6xNwKNYZcvgV3XTIwsgNio</td>\n",
       "      <td>Heartbreak Hotel</td>\n",
       "      <td>spotify:artist:43ZHCT0cAZBISjO8DG9PnE</td>\n",
       "      <td>Elvis Presley</td>\n",
       "      <td>spotify:album:0C3t1htEDTFKcg7F2rNbek</td>\n",
       "      <td>Elvis' Golden Records</td>\n",
       "      <td>spotify:artist:43ZHCT0cAZBISjO8DG9PnE</td>\n",
       "      <td>Elvis Presley</td>\n",
       "      <td>3/21/58</td>\n",
       "      <td>https://i.scdn.co/image/ab67616d0000b27320ee3e...</td>\n",
       "      <td>...</td>\n",
       "      <td>0.8400</td>\n",
       "      <td>0.000002</td>\n",
       "      <td>0.1070</td>\n",
       "      <td>0.717</td>\n",
       "      <td>94.0</td>\n",
       "      <td>4.0</td>\n",
       "      <td>NaN</td>\n",
       "      <td>RCA Records Label</td>\n",
       "      <td>P (P) 1958 Sony Music Entertainment</td>\n",
       "      <td>1958.0</td>\n",
       "    </tr>\n",
       "    <tr>\n",
       "      <th>7007</th>\n",
       "      <td>spotify:track:47gmoUrZV3w20JAnQOZMcO</td>\n",
       "      <td>Blue Suede Shoes</td>\n",
       "      <td>spotify:artist:43ZHCT0cAZBISjO8DG9PnE</td>\n",
       "      <td>Elvis Presley</td>\n",
       "      <td>spotify:album:7GXP5OhYyPVLmcVfO9Iqin</td>\n",
       "      <td>Elvis Presley</td>\n",
       "      <td>spotify:artist:43ZHCT0cAZBISjO8DG9PnE</td>\n",
       "      <td>Elvis Presley</td>\n",
       "      <td>3/23/56</td>\n",
       "      <td>https://i.scdn.co/image/ab67616d0000b273f45cec...</td>\n",
       "      <td>...</td>\n",
       "      <td>0.6540</td>\n",
       "      <td>0.000002</td>\n",
       "      <td>0.1380</td>\n",
       "      <td>0.962</td>\n",
       "      <td>95.0</td>\n",
       "      <td>4.0</td>\n",
       "      <td>NaN</td>\n",
       "      <td>RCA Victor</td>\n",
       "      <td>P (P) 1956 Sony Music Entertainment</td>\n",
       "      <td>1956.0</td>\n",
       "    </tr>\n",
       "    <tr>\n",
       "      <th>2714</th>\n",
       "      <td>spotify:local:The+Beatles:1962-1966:You%27ve+G...</td>\n",
       "      <td>You've Got To Hide Your Love Away</td>\n",
       "      <td>NaN</td>\n",
       "      <td>The Beatles</td>\n",
       "      <td>NaN</td>\n",
       "      <td>1962-1966</td>\n",
       "      <td>NaN</td>\n",
       "      <td>NaN</td>\n",
       "      <td>NaN</td>\n",
       "      <td>NaN</td>\n",
       "      <td>...</td>\n",
       "      <td>NaN</td>\n",
       "      <td>NaN</td>\n",
       "      <td>NaN</td>\n",
       "      <td>NaN</td>\n",
       "      <td>NaN</td>\n",
       "      <td>NaN</td>\n",
       "      <td>NaN</td>\n",
       "      <td>NaN</td>\n",
       "      <td>NaN</td>\n",
       "      <td>NaN</td>\n",
       "    </tr>\n",
       "    <tr>\n",
       "      <th>5061</th>\n",
       "      <td>spotify:local:Koo+De+Tah:Too+Young+For+Promise...</td>\n",
       "      <td>Too Young For Promises</td>\n",
       "      <td>NaN</td>\n",
       "      <td>Koo De Tah</td>\n",
       "      <td>NaN</td>\n",
       "      <td>Too Young For Promises</td>\n",
       "      <td>NaN</td>\n",
       "      <td>NaN</td>\n",
       "      <td>NaN</td>\n",
       "      <td>NaN</td>\n",
       "      <td>...</td>\n",
       "      <td>NaN</td>\n",
       "      <td>NaN</td>\n",
       "      <td>NaN</td>\n",
       "      <td>NaN</td>\n",
       "      <td>NaN</td>\n",
       "      <td>NaN</td>\n",
       "      <td>NaN</td>\n",
       "      <td>NaN</td>\n",
       "      <td>NaN</td>\n",
       "      <td>NaN</td>\n",
       "    </tr>\n",
       "  </tbody>\n",
       "</table>\n",
       "<p>9999 rows × 36 columns</p>\n",
       "</div>"
      ],
      "text/plain": [
       "                                              Track URI  \\\n",
       "9998               spotify:track:3iKuIfvoU50eww6EVzNqHo   \n",
       "9991               spotify:track:3AjSfp5FDvwtMU9XBsbS8j   \n",
       "2428               spotify:track:3k79jB4aGmMDUQzEwa46Rz   \n",
       "9935               spotify:track:6UbNrW8X1v4oOR29vzSVqX   \n",
       "7789               spotify:track:5eTaQYBE1yrActixMAeLcZ   \n",
       "...                                                 ...   \n",
       "2356               spotify:track:33aYzW5ToRjiFOzkubeJ8H   \n",
       "4106               spotify:track:6xNwKNYZcvgV3XTIwsgNio   \n",
       "7007               spotify:track:47gmoUrZV3w20JAnQOZMcO   \n",
       "2714  spotify:local:The+Beatles:1962-1966:You%27ve+G...   \n",
       "5061  spotify:local:Koo+De+Tah:Too+Young+For+Promise...   \n",
       "\n",
       "                             Track Name  \\\n",
       "9998                        Padam Padam   \n",
       "9991                Push Up - Main Edit   \n",
       "2428                            vampire   \n",
       "9935                  One Day At A Time   \n",
       "7789      Miracle (with Ellie Goulding)   \n",
       "...                                 ...   \n",
       "2356                            Rave On   \n",
       "4106                   Heartbreak Hotel   \n",
       "7007                   Blue Suede Shoes   \n",
       "2714  You've Got To Hide Your Love Away   \n",
       "5061             Too Young For Promises   \n",
       "\n",
       "                                          Artist URI(s)  \\\n",
       "9998              spotify:artist:4RVnAU35WRWra6OZ3CbbMA   \n",
       "9991              spotify:artist:2gW0M5fn2r7Lo4Hn1r8HZ5   \n",
       "2428              spotify:artist:1McMsnEElThX1knmY4oliG   \n",
       "9935  spotify:artist:2mF9PcfpN8vxRtCfra8hz1, spotify...   \n",
       "7789  spotify:artist:7CajNmpbOovFoOoasH2HaY, spotify...   \n",
       "...                                                 ...   \n",
       "2356  spotify:artist:3wYyutjgII8LJVVOLrGI0D, spotify...   \n",
       "4106              spotify:artist:43ZHCT0cAZBISjO8DG9PnE   \n",
       "7007              spotify:artist:43ZHCT0cAZBISjO8DG9PnE   \n",
       "2714                                                NaN   \n",
       "5061                                                NaN   \n",
       "\n",
       "                        Artist Name(s)                             Album URI  \\\n",
       "9998                     Kylie Minogue  spotify:album:0OHc8STurn45gpk3dyIiw5   \n",
       "9991                            Creeds  spotify:album:3v5BP6gPT1nNU9rjs57fF0   \n",
       "2428                    Olivia Rodrigo  spotify:album:5kqfR7EuGbyp8x27Pr1kY9   \n",
       "9935  Thierry Von Der Warth, Jay Mason  spotify:album:5qrQjiR5PsDykstHLRAK23   \n",
       "7789     Calvin Harris, Ellie Goulding  spotify:album:22UyygZceCIfoE0RhENgKx   \n",
       "...                                ...                                   ...   \n",
       "2356         Buddy Holly, The Crickets  spotify:album:4Qy0SOU9Jg7Td10K68SanP   \n",
       "4106                     Elvis Presley  spotify:album:0C3t1htEDTFKcg7F2rNbek   \n",
       "7007                     Elvis Presley  spotify:album:7GXP5OhYyPVLmcVfO9Iqin   \n",
       "2714                       The Beatles                                   NaN   \n",
       "5061                        Koo De Tah                                   NaN   \n",
       "\n",
       "                         Album Name  \\\n",
       "9998                    Padam Padam   \n",
       "9991            Push Up (Main Edit)   \n",
       "2428                        vampire   \n",
       "9935              One Day At A Time   \n",
       "7789  Miracle (with Ellie Goulding)   \n",
       "...                             ...   \n",
       "2356                    Buddy Holly   \n",
       "4106          Elvis' Golden Records   \n",
       "7007                  Elvis Presley   \n",
       "2714                      1962-1966   \n",
       "5061         Too Young For Promises   \n",
       "\n",
       "                                    Album Artist URI(s)  \\\n",
       "9998              spotify:artist:4RVnAU35WRWra6OZ3CbbMA   \n",
       "9991              spotify:artist:2gW0M5fn2r7Lo4Hn1r8HZ5   \n",
       "2428              spotify:artist:1McMsnEElThX1knmY4oliG   \n",
       "9935  spotify:artist:2mF9PcfpN8vxRtCfra8hz1, spotify...   \n",
       "7789  spotify:artist:7CajNmpbOovFoOoasH2HaY, spotify...   \n",
       "...                                                 ...   \n",
       "2356              spotify:artist:3wYyutjgII8LJVVOLrGI0D   \n",
       "4106              spotify:artist:43ZHCT0cAZBISjO8DG9PnE   \n",
       "7007              spotify:artist:43ZHCT0cAZBISjO8DG9PnE   \n",
       "2714                                                NaN   \n",
       "5061                                                NaN   \n",
       "\n",
       "                  Album Artist Name(s) Album Release Date  \\\n",
       "9998                     Kylie Minogue            5/19/23   \n",
       "9991                            Creeds            3/31/23   \n",
       "2428                    Olivia Rodrigo            6/30/23   \n",
       "9935  Thierry Von Der Warth, Jay Mason             3/3/23   \n",
       "7789     Calvin Harris, Ellie Goulding            3/10/23   \n",
       "...                                ...                ...   \n",
       "2356                       Buddy Holly               1958   \n",
       "4106                     Elvis Presley            3/21/58   \n",
       "7007                     Elvis Presley            3/23/56   \n",
       "2714                               NaN                NaN   \n",
       "5061                               NaN                NaN   \n",
       "\n",
       "                                        Album Image URL  ...  Acousticness  \\\n",
       "9998  https://i.scdn.co/image/ab67616d0000b2730536a8...  ...        0.2140   \n",
       "9991  https://i.scdn.co/image/ab67616d0000b273b1f8e7...  ...        0.2090   \n",
       "2428  https://i.scdn.co/image/ab67616d0000b2731e5e75...  ...        0.1690   \n",
       "9935  https://i.scdn.co/image/ab67616d0000b2734fe2e6...  ...        0.2240   \n",
       "7789  https://i.scdn.co/image/ab67616d0000b273c58e22...  ...        0.0378   \n",
       "...                                                 ...  ...           ...   \n",
       "2356  https://i.scdn.co/image/ab67616d0000b27358816b...  ...        0.6110   \n",
       "4106  https://i.scdn.co/image/ab67616d0000b27320ee3e...  ...        0.8400   \n",
       "7007  https://i.scdn.co/image/ab67616d0000b273f45cec...  ...        0.6540   \n",
       "2714                                                NaN  ...           NaN   \n",
       "5061                                                NaN  ...           NaN   \n",
       "\n",
       "      Instrumentalness  Liveness Valence  Tempo  Time Signature Album Genres  \\\n",
       "9998          0.001160    0.1030   0.711  128.0             4.0          NaN   \n",
       "9991          0.836000    0.0582   0.187   75.0             4.0          NaN   \n",
       "2428          0.000000    0.3110   0.322  138.0             4.0          NaN   \n",
       "9935          0.000135    0.1170   0.526  122.0             4.0          NaN   \n",
       "7789          0.044600    0.0808   0.306  143.0             4.0          NaN   \n",
       "...                ...       ...     ...    ...             ...          ...   \n",
       "2356          0.000007    0.4170   0.961  160.0             4.0          NaN   \n",
       "4106          0.000002    0.1070   0.717   94.0             4.0          NaN   \n",
       "7007          0.000002    0.1380   0.962   95.0             4.0          NaN   \n",
       "2714               NaN       NaN     NaN    NaN             NaN          NaN   \n",
       "5061               NaN       NaN     NaN    NaN             NaN          NaN   \n",
       "\n",
       "                       Label  \\\n",
       "9998         Liberator Music   \n",
       "9991  Columbia/B1 Recordings   \n",
       "2428       Olivia Rodrigo PS   \n",
       "9935                 Paraiso   \n",
       "7789                Columbia   \n",
       "...                      ...   \n",
       "2356                  Geffen   \n",
       "4106       RCA Records Label   \n",
       "7007              RCA Victor   \n",
       "2714                     NaN   \n",
       "5061                     NaN   \n",
       "\n",
       "                                             Copyrights    year  \n",
       "9998  C 2023 Kylie Minogue/Darenote under exclusive ...  2023.0  \n",
       "9991  P (P) 2023 Rave Alert Records, under exclusive...  2023.0  \n",
       "2428  C © 2023 Olivia Rodrigo, under exclusive licen...  2023.0  \n",
       "9935  C 2023 Thierry Von Der Warth & Jay Mason, P 20...  2023.0  \n",
       "7789     P (P) 2023 Sony Music Entertainment UK Limited  2023.0  \n",
       "...                                                 ...     ...  \n",
       "2356  C © 1958 UMG Recordings Inc., P This Compilati...  1958.0  \n",
       "4106                P (P) 1958 Sony Music Entertainment  1958.0  \n",
       "7007                P (P) 1956 Sony Music Entertainment  1956.0  \n",
       "2714                                                NaN     NaN  \n",
       "5061                                                NaN     NaN  \n",
       "\n",
       "[9999 rows x 36 columns]"
      ]
     },
     "execution_count": 11,
     "metadata": {},
     "output_type": "execute_result"
    }
   ],
   "source": [
    "#loading in second dataset\n",
    "url = 'https://raw.githubusercontent.com/tmartabano/Project-for-Data-Munging/main/top_10000_1960-now.csv'\n",
    "df2 = pd.read_csv(url)\n",
    "\n",
    "#standardizing some measures \n",
    "df2['Tempo'] = df2['Tempo'].round(0)\n",
    "df2['year'] = df2['Album Release Date'].str[-2:].astype(float)\n",
    "\n",
    "#separating the dates from < 2000 and after > 2000\n",
    "df2.loc[df2['year'] < 50, 'year'] += 2000\n",
    "df2.loc[df2['year'] < 100, 'year'] += 1900\n",
    "df2['year']\n",
    "df2 = df2.sort_values(by='year', ascending=False)\n",
    "df2\n",
    "\n"
   ]
  },
  {
   "cell_type": "code",
   "execution_count": 12,
   "id": "4601d321-59ee-4190-9a7c-4ba34a7a27af",
   "metadata": {
    "tags": []
   },
   "outputs": [
    {
     "data": {
      "text/html": [
       "<div>\n",
       "<style scoped>\n",
       "    .dataframe tbody tr th:only-of-type {\n",
       "        vertical-align: middle;\n",
       "    }\n",
       "\n",
       "    .dataframe tbody tr th {\n",
       "        vertical-align: top;\n",
       "    }\n",
       "\n",
       "    .dataframe thead th {\n",
       "        text-align: right;\n",
       "    }\n",
       "</style>\n",
       "<table border=\"1\" class=\"dataframe\">\n",
       "  <thead>\n",
       "    <tr style=\"text-align: right;\">\n",
       "      <th></th>\n",
       "      <th>Track URI</th>\n",
       "      <th>Track Name</th>\n",
       "      <th>Artist URI(s)</th>\n",
       "      <th>Artist Name(s)</th>\n",
       "      <th>Album URI</th>\n",
       "      <th>Album Name</th>\n",
       "      <th>Album Artist URI(s)</th>\n",
       "      <th>Album Artist Name(s)</th>\n",
       "      <th>Album Release Date</th>\n",
       "      <th>Album Image URL</th>\n",
       "      <th>...</th>\n",
       "      <th>Instrumentalness</th>\n",
       "      <th>Liveness</th>\n",
       "      <th>Valence</th>\n",
       "      <th>Tempo</th>\n",
       "      <th>Time Signature</th>\n",
       "      <th>Album Genres</th>\n",
       "      <th>Label</th>\n",
       "      <th>Copyrights</th>\n",
       "      <th>year</th>\n",
       "      <th>Genre Category</th>\n",
       "    </tr>\n",
       "  </thead>\n",
       "  <tbody>\n",
       "    <tr>\n",
       "      <th>9998</th>\n",
       "      <td>spotify:track:3iKuIfvoU50eww6EVzNqHo</td>\n",
       "      <td>Padam Padam</td>\n",
       "      <td>spotify:artist:4RVnAU35WRWra6OZ3CbbMA</td>\n",
       "      <td>Kylie Minogue</td>\n",
       "      <td>spotify:album:0OHc8STurn45gpk3dyIiw5</td>\n",
       "      <td>Padam Padam</td>\n",
       "      <td>spotify:artist:4RVnAU35WRWra6OZ3CbbMA</td>\n",
       "      <td>Kylie Minogue</td>\n",
       "      <td>5/19/23</td>\n",
       "      <td>https://i.scdn.co/image/ab67616d0000b2730536a8...</td>\n",
       "      <td>...</td>\n",
       "      <td>0.001160</td>\n",
       "      <td>0.1030</td>\n",
       "      <td>0.711</td>\n",
       "      <td>128.0</td>\n",
       "      <td>4.0</td>\n",
       "      <td>NaN</td>\n",
       "      <td>Liberator Music</td>\n",
       "      <td>C 2023 Kylie Minogue/Darenote under exclusive ...</td>\n",
       "      <td>2023.0</td>\n",
       "      <td>pop</td>\n",
       "    </tr>\n",
       "    <tr>\n",
       "      <th>9991</th>\n",
       "      <td>spotify:track:3AjSfp5FDvwtMU9XBsbS8j</td>\n",
       "      <td>Push Up - Main Edit</td>\n",
       "      <td>spotify:artist:2gW0M5fn2r7Lo4Hn1r8HZ5</td>\n",
       "      <td>Creeds</td>\n",
       "      <td>spotify:album:3v5BP6gPT1nNU9rjs57fF0</td>\n",
       "      <td>Push Up (Main Edit)</td>\n",
       "      <td>spotify:artist:2gW0M5fn2r7Lo4Hn1r8HZ5</td>\n",
       "      <td>Creeds</td>\n",
       "      <td>3/31/23</td>\n",
       "      <td>https://i.scdn.co/image/ab67616d0000b273b1f8e7...</td>\n",
       "      <td>...</td>\n",
       "      <td>0.836000</td>\n",
       "      <td>0.0582</td>\n",
       "      <td>0.187</td>\n",
       "      <td>75.0</td>\n",
       "      <td>4.0</td>\n",
       "      <td>NaN</td>\n",
       "      <td>Columbia/B1 Recordings</td>\n",
       "      <td>P (P) 2023 Rave Alert Records, under exclusive...</td>\n",
       "      <td>2023.0</td>\n",
       "      <td>Other</td>\n",
       "    </tr>\n",
       "    <tr>\n",
       "      <th>2428</th>\n",
       "      <td>spotify:track:3k79jB4aGmMDUQzEwa46Rz</td>\n",
       "      <td>vampire</td>\n",
       "      <td>spotify:artist:1McMsnEElThX1knmY4oliG</td>\n",
       "      <td>Olivia Rodrigo</td>\n",
       "      <td>spotify:album:5kqfR7EuGbyp8x27Pr1kY9</td>\n",
       "      <td>vampire</td>\n",
       "      <td>spotify:artist:1McMsnEElThX1knmY4oliG</td>\n",
       "      <td>Olivia Rodrigo</td>\n",
       "      <td>6/30/23</td>\n",
       "      <td>https://i.scdn.co/image/ab67616d0000b2731e5e75...</td>\n",
       "      <td>...</td>\n",
       "      <td>0.000000</td>\n",
       "      <td>0.3110</td>\n",
       "      <td>0.322</td>\n",
       "      <td>138.0</td>\n",
       "      <td>4.0</td>\n",
       "      <td>NaN</td>\n",
       "      <td>Olivia Rodrigo PS</td>\n",
       "      <td>C © 2023 Olivia Rodrigo, under exclusive licen...</td>\n",
       "      <td>2023.0</td>\n",
       "      <td>pop</td>\n",
       "    </tr>\n",
       "    <tr>\n",
       "      <th>9935</th>\n",
       "      <td>spotify:track:6UbNrW8X1v4oOR29vzSVqX</td>\n",
       "      <td>One Day At A Time</td>\n",
       "      <td>spotify:artist:2mF9PcfpN8vxRtCfra8hz1, spotify...</td>\n",
       "      <td>Thierry Von Der Warth, Jay Mason</td>\n",
       "      <td>spotify:album:5qrQjiR5PsDykstHLRAK23</td>\n",
       "      <td>One Day At A Time</td>\n",
       "      <td>spotify:artist:2mF9PcfpN8vxRtCfra8hz1, spotify...</td>\n",
       "      <td>Thierry Von Der Warth, Jay Mason</td>\n",
       "      <td>3/3/23</td>\n",
       "      <td>https://i.scdn.co/image/ab67616d0000b2734fe2e6...</td>\n",
       "      <td>...</td>\n",
       "      <td>0.000135</td>\n",
       "      <td>0.1170</td>\n",
       "      <td>0.526</td>\n",
       "      <td>122.0</td>\n",
       "      <td>4.0</td>\n",
       "      <td>NaN</td>\n",
       "      <td>Paraiso</td>\n",
       "      <td>C 2023 Thierry Von Der Warth &amp; Jay Mason, P 20...</td>\n",
       "      <td>2023.0</td>\n",
       "      <td>Other</td>\n",
       "    </tr>\n",
       "    <tr>\n",
       "      <th>7789</th>\n",
       "      <td>spotify:track:5eTaQYBE1yrActixMAeLcZ</td>\n",
       "      <td>Miracle (with Ellie Goulding)</td>\n",
       "      <td>spotify:artist:7CajNmpbOovFoOoasH2HaY, spotify...</td>\n",
       "      <td>Calvin Harris, Ellie Goulding</td>\n",
       "      <td>spotify:album:22UyygZceCIfoE0RhENgKx</td>\n",
       "      <td>Miracle (with Ellie Goulding)</td>\n",
       "      <td>spotify:artist:7CajNmpbOovFoOoasH2HaY, spotify...</td>\n",
       "      <td>Calvin Harris, Ellie Goulding</td>\n",
       "      <td>3/10/23</td>\n",
       "      <td>https://i.scdn.co/image/ab67616d0000b273c58e22...</td>\n",
       "      <td>...</td>\n",
       "      <td>0.044600</td>\n",
       "      <td>0.0808</td>\n",
       "      <td>0.306</td>\n",
       "      <td>143.0</td>\n",
       "      <td>4.0</td>\n",
       "      <td>NaN</td>\n",
       "      <td>Columbia</td>\n",
       "      <td>P (P) 2023 Sony Music Entertainment UK Limited</td>\n",
       "      <td>2023.0</td>\n",
       "      <td>pop</td>\n",
       "    </tr>\n",
       "  </tbody>\n",
       "</table>\n",
       "<p>5 rows × 37 columns</p>\n",
       "</div>"
      ],
      "text/plain": [
       "                                 Track URI                     Track Name  \\\n",
       "9998  spotify:track:3iKuIfvoU50eww6EVzNqHo                    Padam Padam   \n",
       "9991  spotify:track:3AjSfp5FDvwtMU9XBsbS8j            Push Up - Main Edit   \n",
       "2428  spotify:track:3k79jB4aGmMDUQzEwa46Rz                        vampire   \n",
       "9935  spotify:track:6UbNrW8X1v4oOR29vzSVqX              One Day At A Time   \n",
       "7789  spotify:track:5eTaQYBE1yrActixMAeLcZ  Miracle (with Ellie Goulding)   \n",
       "\n",
       "                                          Artist URI(s)  \\\n",
       "9998              spotify:artist:4RVnAU35WRWra6OZ3CbbMA   \n",
       "9991              spotify:artist:2gW0M5fn2r7Lo4Hn1r8HZ5   \n",
       "2428              spotify:artist:1McMsnEElThX1knmY4oliG   \n",
       "9935  spotify:artist:2mF9PcfpN8vxRtCfra8hz1, spotify...   \n",
       "7789  spotify:artist:7CajNmpbOovFoOoasH2HaY, spotify...   \n",
       "\n",
       "                        Artist Name(s)                             Album URI  \\\n",
       "9998                     Kylie Minogue  spotify:album:0OHc8STurn45gpk3dyIiw5   \n",
       "9991                            Creeds  spotify:album:3v5BP6gPT1nNU9rjs57fF0   \n",
       "2428                    Olivia Rodrigo  spotify:album:5kqfR7EuGbyp8x27Pr1kY9   \n",
       "9935  Thierry Von Der Warth, Jay Mason  spotify:album:5qrQjiR5PsDykstHLRAK23   \n",
       "7789     Calvin Harris, Ellie Goulding  spotify:album:22UyygZceCIfoE0RhENgKx   \n",
       "\n",
       "                         Album Name  \\\n",
       "9998                    Padam Padam   \n",
       "9991            Push Up (Main Edit)   \n",
       "2428                        vampire   \n",
       "9935              One Day At A Time   \n",
       "7789  Miracle (with Ellie Goulding)   \n",
       "\n",
       "                                    Album Artist URI(s)  \\\n",
       "9998              spotify:artist:4RVnAU35WRWra6OZ3CbbMA   \n",
       "9991              spotify:artist:2gW0M5fn2r7Lo4Hn1r8HZ5   \n",
       "2428              spotify:artist:1McMsnEElThX1knmY4oliG   \n",
       "9935  spotify:artist:2mF9PcfpN8vxRtCfra8hz1, spotify...   \n",
       "7789  spotify:artist:7CajNmpbOovFoOoasH2HaY, spotify...   \n",
       "\n",
       "                  Album Artist Name(s) Album Release Date  \\\n",
       "9998                     Kylie Minogue            5/19/23   \n",
       "9991                            Creeds            3/31/23   \n",
       "2428                    Olivia Rodrigo            6/30/23   \n",
       "9935  Thierry Von Der Warth, Jay Mason             3/3/23   \n",
       "7789     Calvin Harris, Ellie Goulding            3/10/23   \n",
       "\n",
       "                                        Album Image URL  ...  \\\n",
       "9998  https://i.scdn.co/image/ab67616d0000b2730536a8...  ...   \n",
       "9991  https://i.scdn.co/image/ab67616d0000b273b1f8e7...  ...   \n",
       "2428  https://i.scdn.co/image/ab67616d0000b2731e5e75...  ...   \n",
       "9935  https://i.scdn.co/image/ab67616d0000b2734fe2e6...  ...   \n",
       "7789  https://i.scdn.co/image/ab67616d0000b273c58e22...  ...   \n",
       "\n",
       "      Instrumentalness  Liveness  Valence  Tempo  Time Signature  \\\n",
       "9998          0.001160    0.1030    0.711  128.0             4.0   \n",
       "9991          0.836000    0.0582    0.187   75.0             4.0   \n",
       "2428          0.000000    0.3110    0.322  138.0             4.0   \n",
       "9935          0.000135    0.1170    0.526  122.0             4.0   \n",
       "7789          0.044600    0.0808    0.306  143.0             4.0   \n",
       "\n",
       "      Album Genres                   Label  \\\n",
       "9998           NaN         Liberator Music   \n",
       "9991           NaN  Columbia/B1 Recordings   \n",
       "2428           NaN       Olivia Rodrigo PS   \n",
       "9935           NaN                 Paraiso   \n",
       "7789           NaN                Columbia   \n",
       "\n",
       "                                             Copyrights    year Genre Category  \n",
       "9998  C 2023 Kylie Minogue/Darenote under exclusive ...  2023.0            pop  \n",
       "9991  P (P) 2023 Rave Alert Records, under exclusive...  2023.0          Other  \n",
       "2428  C © 2023 Olivia Rodrigo, under exclusive licen...  2023.0            pop  \n",
       "9935  C 2023 Thierry Von Der Warth & Jay Mason, P 20...  2023.0          Other  \n",
       "7789     P (P) 2023 Sony Music Entertainment UK Limited  2023.0            pop  \n",
       "\n",
       "[5 rows x 37 columns]"
      ]
     },
     "execution_count": 12,
     "metadata": {},
     "output_type": "execute_result"
    }
   ],
   "source": [
    "#sett of conditions to get the genre into usable data\n",
    "conditions = [\n",
    "    df2['Artist Genres'].str.contains('pop', case=False, na=False),\n",
    "    df2['Artist Genres'].str.contains('rock', case=False, na=False),\n",
    "    df2['Artist Genres'].str.contains('hip hop', case=False, na=False),\n",
    "    df2['Artist Genres'].str.contains('country', case=False, na=False),\n",
    "     df2['Artist Genres'].str.contains('soul', case=False, na=False)\n",
    "]\n",
    "\n",
    "#possible genres if not its other \n",
    "categories = ['pop', 'rock', 'hip hop', 'country','soul']\n",
    "\n",
    "# Apply the conditions and assign categories\n",
    "df2['Genre Category'] = np.select(conditions, categories, default='Other')\n",
    "df2.head()"
   ]
  },
  {
   "cell_type": "code",
   "execution_count": 13,
   "id": "c1ec1644-40ba-438f-8957-719c2721e780",
   "metadata": {
    "tags": []
   },
   "outputs": [],
   "source": [
    "#loading in the third and final dataset \n",
    "\n",
    "url = 'https://raw.githubusercontent.com/tmartabano/Project-for-Data-Munging/main/30ksongs.csv'\n",
    "df3 = pd.read_csv(url)\n",
    "\n",
    "# standardizing the year into a usable format\n",
    "df3['year'] = pd.to_datetime(df3['track_album_release_date'], errors='coerce').dt.year\n",
    "#df3['year'] = df3['year'].astype(float)\n",
    "#df3 = df3.sort_values(by='year', ascending=False)\n",
    "\n",
    "good_df = df3[df3['year'] < 2025]\n",
    "error_df = df3[df3['year'] > 2025]\n",
    "\n",
    "error_df = error_df.copy()\n",
    "error_df.loc[error_df['year'] > 2025, 'year'] -= 100\n",
    "fix_df = error_df\n",
    "\n",
    "df3_b = pd.concat([good_df, fix_df], ignore_index=True)\n",
    "df3_b['year'] = df3_b['year'].astype(float)"
   ]
  },
  {
   "cell_type": "code",
   "execution_count": 14,
   "id": "87ed91b7-35cc-4675-9447-e0fc3d69a483",
   "metadata": {
    "tags": []
   },
   "outputs": [
    {
     "data": {
      "text/plain": [
       "playlist_genre\n",
       "edm      6043\n",
       "latin    5153\n",
       "pop      5507\n",
       "r&b      5431\n",
       "rap      5743\n",
       "rock     4951\n",
       "Name: track_name, dtype: int64"
      ]
     },
     "execution_count": 14,
     "metadata": {},
     "output_type": "execute_result"
    }
   ],
   "source": [
    "#test code block\n",
    "df4 = df3[['track_name', 'track_artist', 'playlist_genre']]\n",
    "df4['track_name'].groupby(df4['playlist_genre']).count()"
   ]
  },
  {
   "cell_type": "code",
   "execution_count": 21,
   "id": "e63a6b91-56d8-42a5-b9f2-f6fd2fb1e243",
   "metadata": {
    "tags": []
   },
   "outputs": [],
   "source": [
    "#formatting the data we want into new dataframes with uniform column names \n",
    "\n",
    "# For df1\n",
    "df4 = df1[['song', 'artist', 'year', 'duration_ms', 'key', 'loudness', 'mode', 'tempo', 'main_genre']]\n",
    "df4.columns = ['song', 'artist', 'year', 'duration_ms', 'key', 'loudness', 'mode', 'tempo', 'main_genre']\n",
    "# For df2\n",
    "df5 = df2[['Track Name', 'Artist Name(s)', 'year', 'Track Duration (ms)', 'Key', 'Loudness', 'Mode', 'Tempo', 'Genre Category']]\n",
    "df5.columns = ['song', 'artist', 'year', 'duration_ms', 'key', 'loudness', 'mode', 'tempo', 'main_genre']\n",
    "# For df3\n",
    "df6 = df3_b[['track_name', 'track_artist', 'year', 'duration_ms', 'key', 'loudness', 'mode', 'tempo', 'playlist_genre']]\n",
    "df6.columns = ['song', 'artist', 'year', 'duration_ms', 'key', 'loudness', 'mode', 'tempo', 'main_genre']"
   ]
  },
  {
   "cell_type": "code",
   "execution_count": 23,
   "id": "1cf33eaf-1ef2-4e4e-8dad-90990f3fc645",
   "metadata": {
    "tags": []
   },
   "outputs": [],
   "source": [
    "#joining the 3 dfs into 1 df and getting rid of missing values \n",
    "frames = [df4, df5, df6]\n",
    "big_df = pd.concat(frames)\n",
    "missing_values = big_df.isnull().sum()\n",
    "missing_values\n",
    "big_df.drop_duplicates(subset=['song'], inplace=True)\n"
   ]
  },
  {
   "cell_type": "code",
   "execution_count": 24,
   "id": "3633c571-8a92-4ca7-8d0a-0945c4dffb8b",
   "metadata": {
    "tags": []
   },
   "outputs": [
    {
     "data": {
      "text/plain": [
       "song           0\n",
       "artist         0\n",
       "year           0\n",
       "duration_ms    0\n",
       "key            0\n",
       "loudness       0\n",
       "mode           0\n",
       "tempo          0\n",
       "main_genre     0\n",
       "dtype: int64"
      ]
     },
     "execution_count": 24,
     "metadata": {},
     "output_type": "execute_result"
    }
   ],
   "source": [
    "#start of new method \n",
    "\n",
    "df6 = df6.dropna()\n",
    "df5 = df5.dropna()\n",
    "df4 = df4.dropna()\n",
    "missing_values = big_df.isnull().sum()\n",
    "missing_values"
   ]
  },
  {
   "cell_type": "code",
   "execution_count": 25,
   "id": "6411790f-c33c-4bcb-8b60-f63ba3f8e7f3",
   "metadata": {
    "tags": []
   },
   "outputs": [
    {
     "data": {
      "text/html": [
       "<div>\n",
       "<style scoped>\n",
       "    .dataframe tbody tr th:only-of-type {\n",
       "        vertical-align: middle;\n",
       "    }\n",
       "\n",
       "    .dataframe tbody tr th {\n",
       "        vertical-align: top;\n",
       "    }\n",
       "\n",
       "    .dataframe thead th {\n",
       "        text-align: right;\n",
       "    }\n",
       "</style>\n",
       "<table border=\"1\" class=\"dataframe\">\n",
       "  <thead>\n",
       "    <tr style=\"text-align: right;\">\n",
       "      <th></th>\n",
       "      <th>song</th>\n",
       "      <th>artist</th>\n",
       "      <th>year</th>\n",
       "      <th>duration_ms</th>\n",
       "      <th>key</th>\n",
       "      <th>loudness</th>\n",
       "      <th>mode</th>\n",
       "      <th>tempo</th>\n",
       "      <th>main_genre</th>\n",
       "      <th>decade</th>\n",
       "    </tr>\n",
       "  </thead>\n",
       "  <tbody>\n",
       "    <tr>\n",
       "      <th>0</th>\n",
       "      <td>Oops!...I Did It Again</td>\n",
       "      <td>Britney Spears</td>\n",
       "      <td>2000.0</td>\n",
       "      <td>211160</td>\n",
       "      <td>1.0</td>\n",
       "      <td>-5.444</td>\n",
       "      <td>0.0</td>\n",
       "      <td>95.0</td>\n",
       "      <td>pop</td>\n",
       "      <td>00s</td>\n",
       "    </tr>\n",
       "    <tr>\n",
       "      <th>1</th>\n",
       "      <td>All The Small Things</td>\n",
       "      <td>blink-182</td>\n",
       "      <td>1999.0</td>\n",
       "      <td>167066</td>\n",
       "      <td>0.0</td>\n",
       "      <td>-4.918</td>\n",
       "      <td>1.0</td>\n",
       "      <td>149.0</td>\n",
       "      <td>rock</td>\n",
       "      <td>90s</td>\n",
       "    </tr>\n",
       "    <tr>\n",
       "      <th>2</th>\n",
       "      <td>Breathe</td>\n",
       "      <td>Faith Hill</td>\n",
       "      <td>1999.0</td>\n",
       "      <td>250546</td>\n",
       "      <td>7.0</td>\n",
       "      <td>-9.007</td>\n",
       "      <td>1.0</td>\n",
       "      <td>137.0</td>\n",
       "      <td>pop</td>\n",
       "      <td>90s</td>\n",
       "    </tr>\n",
       "    <tr>\n",
       "      <th>3</th>\n",
       "      <td>It's My Life</td>\n",
       "      <td>Bon Jovi</td>\n",
       "      <td>2000.0</td>\n",
       "      <td>224493</td>\n",
       "      <td>0.0</td>\n",
       "      <td>-4.063</td>\n",
       "      <td>0.0</td>\n",
       "      <td>120.0</td>\n",
       "      <td>rock</td>\n",
       "      <td>00s</td>\n",
       "    </tr>\n",
       "    <tr>\n",
       "      <th>4</th>\n",
       "      <td>Bye Bye Bye</td>\n",
       "      <td>*NSYNC</td>\n",
       "      <td>2000.0</td>\n",
       "      <td>200560</td>\n",
       "      <td>8.0</td>\n",
       "      <td>-4.806</td>\n",
       "      <td>0.0</td>\n",
       "      <td>173.0</td>\n",
       "      <td>pop</td>\n",
       "      <td>00s</td>\n",
       "    </tr>\n",
       "    <tr>\n",
       "      <th>5</th>\n",
       "      <td>Thong Song</td>\n",
       "      <td>Sisqo</td>\n",
       "      <td>1999.0</td>\n",
       "      <td>253733</td>\n",
       "      <td>2.0</td>\n",
       "      <td>-6.959</td>\n",
       "      <td>1.0</td>\n",
       "      <td>122.0</td>\n",
       "      <td>hip hop</td>\n",
       "      <td>90s</td>\n",
       "    </tr>\n",
       "    <tr>\n",
       "      <th>6</th>\n",
       "      <td>The Real Slim Shady</td>\n",
       "      <td>Eminem</td>\n",
       "      <td>2000.0</td>\n",
       "      <td>284200</td>\n",
       "      <td>5.0</td>\n",
       "      <td>-4.244</td>\n",
       "      <td>0.0</td>\n",
       "      <td>105.0</td>\n",
       "      <td>hip hop</td>\n",
       "      <td>00s</td>\n",
       "    </tr>\n",
       "    <tr>\n",
       "      <th>7</th>\n",
       "      <td>Rock DJ</td>\n",
       "      <td>Robbie Williams</td>\n",
       "      <td>2000.0</td>\n",
       "      <td>258560</td>\n",
       "      <td>7.0</td>\n",
       "      <td>-4.264</td>\n",
       "      <td>1.0</td>\n",
       "      <td>103.0</td>\n",
       "      <td>pop</td>\n",
       "      <td>00s</td>\n",
       "    </tr>\n",
       "    <tr>\n",
       "      <th>8</th>\n",
       "      <td>Say My Name</td>\n",
       "      <td>Destiny's Child</td>\n",
       "      <td>1999.0</td>\n",
       "      <td>271333</td>\n",
       "      <td>5.0</td>\n",
       "      <td>-3.525</td>\n",
       "      <td>0.0</td>\n",
       "      <td>138.0</td>\n",
       "      <td>pop</td>\n",
       "      <td>90s</td>\n",
       "    </tr>\n",
       "    <tr>\n",
       "      <th>9</th>\n",
       "      <td>Lady - Hear Me Tonight</td>\n",
       "      <td>Modjo</td>\n",
       "      <td>2001.0</td>\n",
       "      <td>307153</td>\n",
       "      <td>6.0</td>\n",
       "      <td>-5.627</td>\n",
       "      <td>1.0</td>\n",
       "      <td>126.0</td>\n",
       "      <td>Dance/Electronic</td>\n",
       "      <td>00s</td>\n",
       "    </tr>\n",
       "    <tr>\n",
       "      <th>10</th>\n",
       "      <td>L'Amour Toujours</td>\n",
       "      <td>Gigi D'Agostino</td>\n",
       "      <td>2011.0</td>\n",
       "      <td>238759</td>\n",
       "      <td>7.0</td>\n",
       "      <td>-7.932</td>\n",
       "      <td>1.0</td>\n",
       "      <td>139.0</td>\n",
       "      <td>pop</td>\n",
       "      <td>10s</td>\n",
       "    </tr>\n",
       "    <tr>\n",
       "      <th>11</th>\n",
       "      <td>Move Your Body - Gabry Ponte Original Radio Edit</td>\n",
       "      <td>Eiffel 65</td>\n",
       "      <td>1999.0</td>\n",
       "      <td>268863</td>\n",
       "      <td>7.0</td>\n",
       "      <td>-9.664</td>\n",
       "      <td>1.0</td>\n",
       "      <td>130.0</td>\n",
       "      <td>pop</td>\n",
       "      <td>90s</td>\n",
       "    </tr>\n",
       "    <tr>\n",
       "      <th>12</th>\n",
       "      <td>Freestyler</td>\n",
       "      <td>Bomfunk MC's</td>\n",
       "      <td>2000.0</td>\n",
       "      <td>306333</td>\n",
       "      <td>11.0</td>\n",
       "      <td>-5.798</td>\n",
       "      <td>0.0</td>\n",
       "      <td>164.0</td>\n",
       "      <td>pop</td>\n",
       "      <td>00s</td>\n",
       "    </tr>\n",
       "    <tr>\n",
       "      <th>13</th>\n",
       "      <td>Desert Rose</td>\n",
       "      <td>Sting</td>\n",
       "      <td>1999.0</td>\n",
       "      <td>285960</td>\n",
       "      <td>0.0</td>\n",
       "      <td>-7.920</td>\n",
       "      <td>0.0</td>\n",
       "      <td>112.0</td>\n",
       "      <td>rock</td>\n",
       "      <td>90s</td>\n",
       "    </tr>\n",
       "    <tr>\n",
       "      <th>14</th>\n",
       "      <td>Never Be The Same Again</td>\n",
       "      <td>Melanie C</td>\n",
       "      <td>1999.0</td>\n",
       "      <td>294200</td>\n",
       "      <td>3.0</td>\n",
       "      <td>-5.153</td>\n",
       "      <td>1.0</td>\n",
       "      <td>160.0</td>\n",
       "      <td>pop</td>\n",
       "      <td>90s</td>\n",
       "    </tr>\n",
       "    <tr>\n",
       "      <th>15</th>\n",
       "      <td>Try Again</td>\n",
       "      <td>Aaliyah</td>\n",
       "      <td>2002.0</td>\n",
       "      <td>284000</td>\n",
       "      <td>6.0</td>\n",
       "      <td>-5.642</td>\n",
       "      <td>0.0</td>\n",
       "      <td>93.0</td>\n",
       "      <td>hip hop</td>\n",
       "      <td>00s</td>\n",
       "    </tr>\n",
       "    <tr>\n",
       "      <th>16</th>\n",
       "      <td>I'm Outta Love - Radio Edit</td>\n",
       "      <td>Anastacia</td>\n",
       "      <td>1999.0</td>\n",
       "      <td>245400</td>\n",
       "      <td>10.0</td>\n",
       "      <td>-5.800</td>\n",
       "      <td>0.0</td>\n",
       "      <td>119.0</td>\n",
       "      <td>pop</td>\n",
       "      <td>90s</td>\n",
       "    </tr>\n",
       "    <tr>\n",
       "      <th>17</th>\n",
       "      <td>Better Off Alone</td>\n",
       "      <td>Alice Deejay</td>\n",
       "      <td>2000.0</td>\n",
       "      <td>214883</td>\n",
       "      <td>8.0</td>\n",
       "      <td>-6.149</td>\n",
       "      <td>0.0</td>\n",
       "      <td>137.0</td>\n",
       "      <td>pop</td>\n",
       "      <td>00s</td>\n",
       "    </tr>\n",
       "    <tr>\n",
       "      <th>18</th>\n",
       "      <td>The Riddle</td>\n",
       "      <td>Gigi D'Agostino</td>\n",
       "      <td>1999.0</td>\n",
       "      <td>285426</td>\n",
       "      <td>6.0</td>\n",
       "      <td>-6.870</td>\n",
       "      <td>0.0</td>\n",
       "      <td>127.0</td>\n",
       "      <td>pop</td>\n",
       "      <td>90s</td>\n",
       "    </tr>\n",
       "    <tr>\n",
       "      <th>19</th>\n",
       "      <td>The Next Episode</td>\n",
       "      <td>Dr. Dre</td>\n",
       "      <td>1999.0</td>\n",
       "      <td>161506</td>\n",
       "      <td>10.0</td>\n",
       "      <td>-2.429</td>\n",
       "      <td>0.0</td>\n",
       "      <td>95.0</td>\n",
       "      <td>hip hop</td>\n",
       "      <td>90s</td>\n",
       "    </tr>\n",
       "    <tr>\n",
       "      <th>20</th>\n",
       "      <td>In the End</td>\n",
       "      <td>Linkin Park</td>\n",
       "      <td>2000.0</td>\n",
       "      <td>216880</td>\n",
       "      <td>3.0</td>\n",
       "      <td>-5.870</td>\n",
       "      <td>0.0</td>\n",
       "      <td>105.0</td>\n",
       "      <td>rock</td>\n",
       "      <td>00s</td>\n",
       "    </tr>\n",
       "    <tr>\n",
       "      <th>21</th>\n",
       "      <td>Sexbomb</td>\n",
       "      <td>Tom Jones</td>\n",
       "      <td>1999.0</td>\n",
       "      <td>211893</td>\n",
       "      <td>8.0</td>\n",
       "      <td>-3.940</td>\n",
       "      <td>0.0</td>\n",
       "      <td>123.0</td>\n",
       "      <td>rock</td>\n",
       "      <td>90s</td>\n",
       "    </tr>\n",
       "    <tr>\n",
       "      <th>22</th>\n",
       "      <td>It Feels So Good</td>\n",
       "      <td>Sonique</td>\n",
       "      <td>2000.0</td>\n",
       "      <td>240866</td>\n",
       "      <td>5.0</td>\n",
       "      <td>-7.278</td>\n",
       "      <td>0.0</td>\n",
       "      <td>135.0</td>\n",
       "      <td>pop</td>\n",
       "      <td>00s</td>\n",
       "    </tr>\n",
       "    <tr>\n",
       "      <th>23</th>\n",
       "      <td>Cold as Ice</td>\n",
       "      <td>M.O.P.</td>\n",
       "      <td>2000.0</td>\n",
       "      <td>244466</td>\n",
       "      <td>11.0</td>\n",
       "      <td>-5.425</td>\n",
       "      <td>0.0</td>\n",
       "      <td>86.0</td>\n",
       "      <td>hip hop</td>\n",
       "      <td>00s</td>\n",
       "    </tr>\n",
       "    <tr>\n",
       "      <th>24</th>\n",
       "      <td>I Turn To You</td>\n",
       "      <td>Melanie C</td>\n",
       "      <td>1999.0</td>\n",
       "      <td>352173</td>\n",
       "      <td>1.0</td>\n",
       "      <td>-5.825</td>\n",
       "      <td>1.0</td>\n",
       "      <td>135.0</td>\n",
       "      <td>pop</td>\n",
       "      <td>90s</td>\n",
       "    </tr>\n",
       "    <tr>\n",
       "      <th>25</th>\n",
       "      <td>Take A Look Around</td>\n",
       "      <td>Limp Bizkit</td>\n",
       "      <td>2000.0</td>\n",
       "      <td>321040</td>\n",
       "      <td>11.0</td>\n",
       "      <td>-5.607</td>\n",
       "      <td>1.0</td>\n",
       "      <td>102.0</td>\n",
       "      <td>metal</td>\n",
       "      <td>00s</td>\n",
       "    </tr>\n",
       "    <tr>\n",
       "      <th>26</th>\n",
       "      <td>Sandstorm</td>\n",
       "      <td>Darude</td>\n",
       "      <td>2001.0</td>\n",
       "      <td>225493</td>\n",
       "      <td>11.0</td>\n",
       "      <td>-7.984</td>\n",
       "      <td>0.0</td>\n",
       "      <td>136.0</td>\n",
       "      <td>pop</td>\n",
       "      <td>00s</td>\n",
       "    </tr>\n",
       "    <tr>\n",
       "      <th>27</th>\n",
       "      <td>What'chu Like (feat. Tyrese)</td>\n",
       "      <td>Da Brat</td>\n",
       "      <td>2000.0</td>\n",
       "      <td>221160</td>\n",
       "      <td>10.0</td>\n",
       "      <td>-8.951</td>\n",
       "      <td>0.0</td>\n",
       "      <td>100.0</td>\n",
       "      <td>hip hop</td>\n",
       "      <td>00s</td>\n",
       "    </tr>\n",
       "    <tr>\n",
       "      <th>28</th>\n",
       "      <td>The Time Is Now</td>\n",
       "      <td>Moloko</td>\n",
       "      <td>2000.0</td>\n",
       "      <td>318280</td>\n",
       "      <td>9.0</td>\n",
       "      <td>-10.644</td>\n",
       "      <td>0.0</td>\n",
       "      <td>128.0</td>\n",
       "      <td>pop</td>\n",
       "      <td>00s</td>\n",
       "    </tr>\n",
       "    <tr>\n",
       "      <th>29</th>\n",
       "      <td>Don't Give Up</td>\n",
       "      <td>Chicane</td>\n",
       "      <td>2016.0</td>\n",
       "      <td>210786</td>\n",
       "      <td>10.0</td>\n",
       "      <td>-9.635</td>\n",
       "      <td>0.0</td>\n",
       "      <td>132.0</td>\n",
       "      <td>Dance/Electronic</td>\n",
       "      <td>10s</td>\n",
       "    </tr>\n",
       "    <tr>\n",
       "      <th>30</th>\n",
       "      <td>Party Up</td>\n",
       "      <td>DMX</td>\n",
       "      <td>1999.0</td>\n",
       "      <td>268866</td>\n",
       "      <td>11.0</td>\n",
       "      <td>-3.302</td>\n",
       "      <td>1.0</td>\n",
       "      <td>202.0</td>\n",
       "      <td>hip hop</td>\n",
       "      <td>90s</td>\n",
       "    </tr>\n",
       "    <tr>\n",
       "      <th>31</th>\n",
       "      <td>Dance with Me</td>\n",
       "      <td>Debelah Morgan</td>\n",
       "      <td>2000.0</td>\n",
       "      <td>220106</td>\n",
       "      <td>7.0</td>\n",
       "      <td>-7.981</td>\n",
       "      <td>0.0</td>\n",
       "      <td>115.0</td>\n",
       "      <td>pop</td>\n",
       "      <td>00s</td>\n",
       "    </tr>\n",
       "    <tr>\n",
       "      <th>32</th>\n",
       "      <td>Music</td>\n",
       "      <td>Madonna</td>\n",
       "      <td>2000.0</td>\n",
       "      <td>225973</td>\n",
       "      <td>7.0</td>\n",
       "      <td>-8.527</td>\n",
       "      <td>1.0</td>\n",
       "      <td>120.0</td>\n",
       "      <td>pop</td>\n",
       "      <td>00s</td>\n",
       "    </tr>\n",
       "    <tr>\n",
       "      <th>33</th>\n",
       "      <td>No More</td>\n",
       "      <td>Ruff Endz</td>\n",
       "      <td>2000.0</td>\n",
       "      <td>242560</td>\n",
       "      <td>10.0</td>\n",
       "      <td>-5.669</td>\n",
       "      <td>0.0</td>\n",
       "      <td>97.0</td>\n",
       "      <td>R&amp;B</td>\n",
       "      <td>00s</td>\n",
       "    </tr>\n",
       "    <tr>\n",
       "      <th>34</th>\n",
       "      <td>Born to Make You Happy</td>\n",
       "      <td>Britney Spears</td>\n",
       "      <td>1999.0</td>\n",
       "      <td>243533</td>\n",
       "      <td>11.0</td>\n",
       "      <td>-4.842</td>\n",
       "      <td>0.0</td>\n",
       "      <td>84.0</td>\n",
       "      <td>pop</td>\n",
       "      <td>90s</td>\n",
       "    </tr>\n",
       "    <tr>\n",
       "      <th>35</th>\n",
       "      <td>Get It On Tonite</td>\n",
       "      <td>Montell Jordan</td>\n",
       "      <td>1999.0</td>\n",
       "      <td>276266</td>\n",
       "      <td>10.0</td>\n",
       "      <td>-9.923</td>\n",
       "      <td>0.0</td>\n",
       "      <td>99.0</td>\n",
       "      <td>hip hop</td>\n",
       "      <td>90s</td>\n",
       "    </tr>\n",
       "    <tr>\n",
       "      <th>36</th>\n",
       "      <td>Spinning Around</td>\n",
       "      <td>Kylie Minogue</td>\n",
       "      <td>2000.0</td>\n",
       "      <td>207866</td>\n",
       "      <td>6.0</td>\n",
       "      <td>-7.645</td>\n",
       "      <td>0.0</td>\n",
       "      <td>120.0</td>\n",
       "      <td>pop</td>\n",
       "      <td>00s</td>\n",
       "    </tr>\n",
       "    <tr>\n",
       "      <th>37</th>\n",
       "      <td>Big Pimpin'</td>\n",
       "      <td>JAY-Z</td>\n",
       "      <td>1999.0</td>\n",
       "      <td>283066</td>\n",
       "      <td>11.0</td>\n",
       "      <td>-6.307</td>\n",
       "      <td>0.0</td>\n",
       "      <td>138.0</td>\n",
       "      <td>hip hop</td>\n",
       "      <td>90s</td>\n",
       "    </tr>\n",
       "    <tr>\n",
       "      <th>38</th>\n",
       "      <td>I Need You</td>\n",
       "      <td>LeAnn Rimes</td>\n",
       "      <td>2001.0</td>\n",
       "      <td>229826</td>\n",
       "      <td>7.0</td>\n",
       "      <td>-7.124</td>\n",
       "      <td>1.0</td>\n",
       "      <td>145.0</td>\n",
       "      <td>pop</td>\n",
       "      <td>00s</td>\n",
       "    </tr>\n",
       "    <tr>\n",
       "      <th>39</th>\n",
       "      <td>Separated</td>\n",
       "      <td>Avant</td>\n",
       "      <td>2000.0</td>\n",
       "      <td>255600</td>\n",
       "      <td>0.0</td>\n",
       "      <td>-5.564</td>\n",
       "      <td>1.0</td>\n",
       "      <td>108.0</td>\n",
       "      <td>pop</td>\n",
       "      <td>00s</td>\n",
       "    </tr>\n",
       "    <tr>\n",
       "      <th>40</th>\n",
       "      <td>Be With You</td>\n",
       "      <td>Enrique Iglesias</td>\n",
       "      <td>1999.0</td>\n",
       "      <td>219360</td>\n",
       "      <td>1.0</td>\n",
       "      <td>-5.436</td>\n",
       "      <td>0.0</td>\n",
       "      <td>122.0</td>\n",
       "      <td>pop</td>\n",
       "      <td>90s</td>\n",
       "    </tr>\n",
       "    <tr>\n",
       "      <th>41</th>\n",
       "      <td>He Wasn't Man Enough</td>\n",
       "      <td>Toni Braxton</td>\n",
       "      <td>2000.0</td>\n",
       "      <td>261933</td>\n",
       "      <td>11.0</td>\n",
       "      <td>-1.916</td>\n",
       "      <td>0.0</td>\n",
       "      <td>88.0</td>\n",
       "      <td>pop</td>\n",
       "      <td>00s</td>\n",
       "    </tr>\n",
       "    <tr>\n",
       "      <th>42</th>\n",
       "      <td>Bounce With Me (feat. Xscape) - Edited Album V...</td>\n",
       "      <td>Bow Wow</td>\n",
       "      <td>2000.0</td>\n",
       "      <td>175893</td>\n",
       "      <td>8.0</td>\n",
       "      <td>-5.153</td>\n",
       "      <td>1.0</td>\n",
       "      <td>72.0</td>\n",
       "      <td>hip hop</td>\n",
       "      <td>00s</td>\n",
       "    </tr>\n",
       "    <tr>\n",
       "      <th>43</th>\n",
       "      <td>Forgot About Dre</td>\n",
       "      <td>Dr. Dre</td>\n",
       "      <td>1999.0</td>\n",
       "      <td>222293</td>\n",
       "      <td>8.0</td>\n",
       "      <td>-1.299</td>\n",
       "      <td>1.0</td>\n",
       "      <td>134.0</td>\n",
       "      <td>hip hop</td>\n",
       "      <td>90s</td>\n",
       "    </tr>\n",
       "    <tr>\n",
       "      <th>44</th>\n",
       "      <td>Hot Boyz</td>\n",
       "      <td>Missy Elliott</td>\n",
       "      <td>1998.0</td>\n",
       "      <td>215466</td>\n",
       "      <td>1.0</td>\n",
       "      <td>-11.241</td>\n",
       "      <td>1.0</td>\n",
       "      <td>81.0</td>\n",
       "      <td>hip hop</td>\n",
       "      <td>90s</td>\n",
       "    </tr>\n",
       "    <tr>\n",
       "      <th>45</th>\n",
       "      <td>Show Me the Meaning of Being Lonely</td>\n",
       "      <td>Backstreet Boys</td>\n",
       "      <td>1999.0</td>\n",
       "      <td>234960</td>\n",
       "      <td>6.0</td>\n",
       "      <td>-5.088</td>\n",
       "      <td>0.0</td>\n",
       "      <td>168.0</td>\n",
       "      <td>pop</td>\n",
       "      <td>90s</td>\n",
       "    </tr>\n",
       "    <tr>\n",
       "      <th>46</th>\n",
       "      <td>Gotta Tell You</td>\n",
       "      <td>Samantha Mumba</td>\n",
       "      <td>2018.0</td>\n",
       "      <td>201946</td>\n",
       "      <td>0.0</td>\n",
       "      <td>-8.750</td>\n",
       "      <td>0.0</td>\n",
       "      <td>110.0</td>\n",
       "      <td>pop</td>\n",
       "      <td>10s</td>\n",
       "    </tr>\n",
       "    <tr>\n",
       "      <th>47</th>\n",
       "      <td>Case Of The Ex (Whatcha Gonna Do)</td>\n",
       "      <td>Mýa</td>\n",
       "      <td>2000.0</td>\n",
       "      <td>236906</td>\n",
       "      <td>1.0</td>\n",
       "      <td>-4.715</td>\n",
       "      <td>0.0</td>\n",
       "      <td>98.0</td>\n",
       "      <td>pop</td>\n",
       "      <td>00s</td>\n",
       "    </tr>\n",
       "    <tr>\n",
       "      <th>48</th>\n",
       "      <td>Shackles (Praise You)</td>\n",
       "      <td>Mary Mary</td>\n",
       "      <td>2000.0</td>\n",
       "      <td>198346</td>\n",
       "      <td>7.0</td>\n",
       "      <td>-2.773</td>\n",
       "      <td>1.0</td>\n",
       "      <td>100.0</td>\n",
       "      <td>R&amp;B</td>\n",
       "      <td>00s</td>\n",
       "    </tr>\n",
       "    <tr>\n",
       "      <th>49</th>\n",
       "      <td>Wifey</td>\n",
       "      <td>Next</td>\n",
       "      <td>2004.0</td>\n",
       "      <td>243666</td>\n",
       "      <td>7.0</td>\n",
       "      <td>-8.693</td>\n",
       "      <td>0.0</td>\n",
       "      <td>100.0</td>\n",
       "      <td>hip hop</td>\n",
       "      <td>00s</td>\n",
       "    </tr>\n",
       "  </tbody>\n",
       "</table>\n",
       "</div>"
      ],
      "text/plain": [
       "                                                 song            artist  \\\n",
       "0                              Oops!...I Did It Again    Britney Spears   \n",
       "1                                All The Small Things         blink-182   \n",
       "2                                             Breathe        Faith Hill   \n",
       "3                                        It's My Life          Bon Jovi   \n",
       "4                                         Bye Bye Bye            *NSYNC   \n",
       "5                                          Thong Song             Sisqo   \n",
       "6                                 The Real Slim Shady            Eminem   \n",
       "7                                             Rock DJ   Robbie Williams   \n",
       "8                                         Say My Name   Destiny's Child   \n",
       "9                              Lady - Hear Me Tonight             Modjo   \n",
       "10                                   L'Amour Toujours   Gigi D'Agostino   \n",
       "11   Move Your Body - Gabry Ponte Original Radio Edit         Eiffel 65   \n",
       "12                                         Freestyler      Bomfunk MC's   \n",
       "13                                        Desert Rose             Sting   \n",
       "14                            Never Be The Same Again         Melanie C   \n",
       "15                                          Try Again           Aaliyah   \n",
       "16                        I'm Outta Love - Radio Edit         Anastacia   \n",
       "17                                   Better Off Alone      Alice Deejay   \n",
       "18                                         The Riddle   Gigi D'Agostino   \n",
       "19                                   The Next Episode           Dr. Dre   \n",
       "20                                         In the End       Linkin Park   \n",
       "21                                            Sexbomb         Tom Jones   \n",
       "22                                   It Feels So Good           Sonique   \n",
       "23                                        Cold as Ice            M.O.P.   \n",
       "24                                      I Turn To You         Melanie C   \n",
       "25                                 Take A Look Around       Limp Bizkit   \n",
       "26                                          Sandstorm            Darude   \n",
       "27                       What'chu Like (feat. Tyrese)           Da Brat   \n",
       "28                                    The Time Is Now            Moloko   \n",
       "29                                      Don't Give Up           Chicane   \n",
       "30                                           Party Up               DMX   \n",
       "31                                      Dance with Me    Debelah Morgan   \n",
       "32                                              Music           Madonna   \n",
       "33                                            No More         Ruff Endz   \n",
       "34                             Born to Make You Happy    Britney Spears   \n",
       "35                                   Get It On Tonite    Montell Jordan   \n",
       "36                                    Spinning Around     Kylie Minogue   \n",
       "37                                        Big Pimpin'             JAY-Z   \n",
       "38                                         I Need You       LeAnn Rimes   \n",
       "39                                          Separated             Avant   \n",
       "40                                        Be With You  Enrique Iglesias   \n",
       "41                               He Wasn't Man Enough      Toni Braxton   \n",
       "42  Bounce With Me (feat. Xscape) - Edited Album V...           Bow Wow   \n",
       "43                                   Forgot About Dre           Dr. Dre   \n",
       "44                                           Hot Boyz     Missy Elliott   \n",
       "45                Show Me the Meaning of Being Lonely   Backstreet Boys   \n",
       "46                                     Gotta Tell You    Samantha Mumba   \n",
       "47                  Case Of The Ex (Whatcha Gonna Do)               Mýa   \n",
       "48                              Shackles (Praise You)         Mary Mary   \n",
       "49                                              Wifey              Next   \n",
       "\n",
       "      year  duration_ms   key  loudness  mode  tempo        main_genre decade  \n",
       "0   2000.0       211160   1.0    -5.444   0.0   95.0               pop    00s  \n",
       "1   1999.0       167066   0.0    -4.918   1.0  149.0              rock    90s  \n",
       "2   1999.0       250546   7.0    -9.007   1.0  137.0               pop    90s  \n",
       "3   2000.0       224493   0.0    -4.063   0.0  120.0              rock    00s  \n",
       "4   2000.0       200560   8.0    -4.806   0.0  173.0               pop    00s  \n",
       "5   1999.0       253733   2.0    -6.959   1.0  122.0           hip hop    90s  \n",
       "6   2000.0       284200   5.0    -4.244   0.0  105.0           hip hop    00s  \n",
       "7   2000.0       258560   7.0    -4.264   1.0  103.0               pop    00s  \n",
       "8   1999.0       271333   5.0    -3.525   0.0  138.0               pop    90s  \n",
       "9   2001.0       307153   6.0    -5.627   1.0  126.0  Dance/Electronic    00s  \n",
       "10  2011.0       238759   7.0    -7.932   1.0  139.0               pop    10s  \n",
       "11  1999.0       268863   7.0    -9.664   1.0  130.0               pop    90s  \n",
       "12  2000.0       306333  11.0    -5.798   0.0  164.0               pop    00s  \n",
       "13  1999.0       285960   0.0    -7.920   0.0  112.0              rock    90s  \n",
       "14  1999.0       294200   3.0    -5.153   1.0  160.0               pop    90s  \n",
       "15  2002.0       284000   6.0    -5.642   0.0   93.0           hip hop    00s  \n",
       "16  1999.0       245400  10.0    -5.800   0.0  119.0               pop    90s  \n",
       "17  2000.0       214883   8.0    -6.149   0.0  137.0               pop    00s  \n",
       "18  1999.0       285426   6.0    -6.870   0.0  127.0               pop    90s  \n",
       "19  1999.0       161506  10.0    -2.429   0.0   95.0           hip hop    90s  \n",
       "20  2000.0       216880   3.0    -5.870   0.0  105.0              rock    00s  \n",
       "21  1999.0       211893   8.0    -3.940   0.0  123.0              rock    90s  \n",
       "22  2000.0       240866   5.0    -7.278   0.0  135.0               pop    00s  \n",
       "23  2000.0       244466  11.0    -5.425   0.0   86.0           hip hop    00s  \n",
       "24  1999.0       352173   1.0    -5.825   1.0  135.0               pop    90s  \n",
       "25  2000.0       321040  11.0    -5.607   1.0  102.0             metal    00s  \n",
       "26  2001.0       225493  11.0    -7.984   0.0  136.0               pop    00s  \n",
       "27  2000.0       221160  10.0    -8.951   0.0  100.0           hip hop    00s  \n",
       "28  2000.0       318280   9.0   -10.644   0.0  128.0               pop    00s  \n",
       "29  2016.0       210786  10.0    -9.635   0.0  132.0  Dance/Electronic    10s  \n",
       "30  1999.0       268866  11.0    -3.302   1.0  202.0           hip hop    90s  \n",
       "31  2000.0       220106   7.0    -7.981   0.0  115.0               pop    00s  \n",
       "32  2000.0       225973   7.0    -8.527   1.0  120.0               pop    00s  \n",
       "33  2000.0       242560  10.0    -5.669   0.0   97.0               R&B    00s  \n",
       "34  1999.0       243533  11.0    -4.842   0.0   84.0               pop    90s  \n",
       "35  1999.0       276266  10.0    -9.923   0.0   99.0           hip hop    90s  \n",
       "36  2000.0       207866   6.0    -7.645   0.0  120.0               pop    00s  \n",
       "37  1999.0       283066  11.0    -6.307   0.0  138.0           hip hop    90s  \n",
       "38  2001.0       229826   7.0    -7.124   1.0  145.0               pop    00s  \n",
       "39  2000.0       255600   0.0    -5.564   1.0  108.0               pop    00s  \n",
       "40  1999.0       219360   1.0    -5.436   0.0  122.0               pop    90s  \n",
       "41  2000.0       261933  11.0    -1.916   0.0   88.0               pop    00s  \n",
       "42  2000.0       175893   8.0    -5.153   1.0   72.0           hip hop    00s  \n",
       "43  1999.0       222293   8.0    -1.299   1.0  134.0           hip hop    90s  \n",
       "44  1998.0       215466   1.0   -11.241   1.0   81.0           hip hop    90s  \n",
       "45  1999.0       234960   6.0    -5.088   0.0  168.0               pop    90s  \n",
       "46  2018.0       201946   0.0    -8.750   0.0  110.0               pop    10s  \n",
       "47  2000.0       236906   1.0    -4.715   0.0   98.0               pop    00s  \n",
       "48  2000.0       198346   7.0    -2.773   1.0  100.0               R&B    00s  \n",
       "49  2004.0       243666   7.0    -8.693   0.0  100.0           hip hop    00s  "
      ]
     },
     "execution_count": 25,
     "metadata": {},
     "output_type": "execute_result"
    }
   ],
   "source": [
    "#code that fixes the issue with the year and creates decades column\n",
    "condition = big_df['year'] > 2025\n",
    "big_df.loc[condition, 'year'] -= 100\n",
    "sorted_value_counts = big_df['year'].value_counts().sort_index(ascending=False)\n",
    "\n",
    "big_df['decade'] = big_df['year'].astype(str).str[2:3] + '0s'\n",
    "big_df.head(50)"
   ]
  },
  {
   "cell_type": "code",
   "execution_count": null,
   "id": "61408b0a-925d-40d0-b567-5377850da44c",
   "metadata": {
    "tags": []
   },
   "outputs": [],
   "source": []
  },
  {
   "cell_type": "code",
   "execution_count": 26,
   "id": "c61362b0-2d9c-45fe-85d5-c7be6bb7315e",
   "metadata": {
    "tags": []
   },
   "outputs": [
    {
     "data": {
      "text/plain": [
       "0        00s\n",
       "1        90s\n",
       "2        90s\n",
       "3        00s\n",
       "4        00s\n",
       "        ... \n",
       "32827    70s\n",
       "32828    70s\n",
       "32829    60s\n",
       "32830    60s\n",
       "32831    60s\n",
       "Name: decade, Length: 29454, dtype: object"
      ]
     },
     "execution_count": 26,
     "metadata": {},
     "output_type": "execute_result"
    }
   ],
   "source": [
    "#rounding tempo has it is measured by nearest whole number \n",
    "big_df['tempo'] = big_df['tempo'].round(0)\n",
    "big_df['minutes'] = big_df['duration_ms'] / 60000\n",
    "big_df['decade'] = big_df['year'].astype(str).str[2:3] + '0s'\n",
    "big_df['decade']"
   ]
  },
  {
   "cell_type": "code",
   "execution_count": 27,
   "id": "da1ab3a5-2255-49c6-a16b-f651aefd54e1",
   "metadata": {
    "tags": []
   },
   "outputs": [],
   "source": [
    "genre_counts = big_df['main_genre'].value_counts()\n",
    "\n",
    "# Replace genres with count <= 10 with 'Other'\n",
    "big_df['main_genre'] = big_df['main_genre'].apply(lambda x: 'Other' if genre_counts[x] <= 10 else x)\n",
    "big_df['main_genre'] = big_df['main_genre'].replace('r&b', 'R&B')"
   ]
  },
  {
   "cell_type": "code",
   "execution_count": 28,
   "id": "8f53f274-3abf-44c3-9952-aa73eafd4438",
   "metadata": {
    "tags": []
   },
   "outputs": [],
   "source": [
    "#set is put into other genre because we have no clue what set() music is!!!\n",
    "big_df['main_genre'] = big_df['main_genre'].replace('set()', 'Other')\n"
   ]
  },
  {
   "cell_type": "code",
   "execution_count": 29,
   "id": "6b79e773-cc6f-41cd-bf06-8a91565e775d",
   "metadata": {
    "tags": []
   },
   "outputs": [
    {
     "data": {
      "text/plain": [
       "main_genre\n",
       "pop                 7705\n",
       "rock                4678\n",
       "rap                 4546\n",
       "edm                 3678\n",
       "latin               3256\n",
       "R&B                 3086\n",
       "Other               1368\n",
       "hip hop              842\n",
       "soul                 205\n",
       "country               53\n",
       "Dance/Electronic      37\n",
       "Name: song, dtype: int64"
      ]
     },
     "execution_count": 29,
     "metadata": {},
     "output_type": "execute_result"
    }
   ],
   "source": [
    "#What genre has the most songs in our dataset?\n",
    "Total_song_genre = big_df.groupby('main_genre')['song'].count().sort_values(ascending = False)\n",
    "Total_song_genre"
   ]
  },
  {
   "cell_type": "code",
   "execution_count": 30,
   "id": "aade8dac-92fb-4528-adb8-e7c427b2a133",
   "metadata": {
    "tags": []
   },
   "outputs": [
    {
     "data": {
      "image/png": "[encoded data removed]",
      "text/plain": [
       "<Figure size 640x480 with 1 Axes>"
      ]
     },
     "metadata": {},
     "output_type": "display_data"
    }
   ],
   "source": [
    "plt.pie(Total_song_genre, labels=Total_song_genre.index, autopct='%1.1f%%')\n",
    "plt.title('Distribution of Songs by Genre')\n",
    "plt.show()"
   ]
  },
  {
   "cell_type": "code",
   "execution_count": 31,
   "id": "f74776e9-1336-44f2-bfdb-ecae0656418d",
   "metadata": {
    "tags": []
   },
   "outputs": [],
   "source": [
    "#This data is for question 2 (duration)"
   ]
  },
  {
   "cell_type": "code",
   "execution_count": 32,
   "id": "3bdaa1b9-2c90-44b8-9305-a79818116a88",
   "metadata": {
    "tags": []
   },
   "outputs": [
    {
     "data": {
      "text/plain": [
       "main_genre\n",
       "Dance/Electronic    4.042049\n",
       "rock                4.000286\n",
       "R&B                 3.968907\n",
       "hip hop             3.885630\n",
       "edm                 3.848132\n",
       "pop                 3.685785\n",
       "latin               3.647511\n",
       "Other               3.606211\n",
       "soul                3.570492\n",
       "rap                 3.520967\n",
       "country             3.362379\n",
       "Name: duration_ms, dtype: float64"
      ]
     },
     "execution_count": 32,
     "metadata": {},
     "output_type": "execute_result"
    }
   ],
   "source": [
    "avg_duration = big_df.groupby('main_genre')['duration_ms'].mean().sort_values(ascending = False)\n",
    "avg_min = avg_duration / 60000\n",
    "avg_min"
   ]
  },
  {
   "cell_type": "code",
   "execution_count": 33,
   "id": "3e502774-b237-4766-92ec-92d529e71b0e",
   "metadata": {
    "tags": []
   },
   "outputs": [
    {
     "data": {
      "image/png": "[encoded data removed]",
      "text/plain": [
       "<Figure size 1000x600 with 1 Axes>"
      ]
     },
     "metadata": {},
     "output_type": "display_data"
    }
   ],
   "source": [
    "#chart 2 \n",
    "plt.figure(figsize=(10, 6))\n",
    "plt.bar(avg_min.index, avg_min.values, color= 'red')\n",
    "plt.xlabel('Main Genre')\n",
    "plt.ylabel('Average Duration (minutes)')\n",
    "plt.title('Average Duration of Songs by Genre')\n",
    "plt.xticks(rotation=45, ha='right')\n",
    "plt.ylim(3.0, 4.5)\n",
    "plt.grid(axis='y', linestyle='--', alpha=0.7)\n",
    "\n",
    "# Show the bar graph\n",
    "plt.tight_layout()\n",
    "plt.show()"
   ]
  },
  {
   "cell_type": "code",
   "execution_count": 34,
   "id": "0dcbe303-e4e6-45df-abfc-8a2a13a75f1b",
   "metadata": {
    "tags": []
   },
   "outputs": [
    {
     "data": {
      "text/plain": [
       "main_genre\n",
       "country             129.660377\n",
       "edm                 126.247145\n",
       "Dance/Electronic    124.891892\n",
       "rock                124.412142\n",
       "Other               121.578216\n",
       "pop                 121.144841\n",
       "rap                 120.619446\n",
       "latin               119.000307\n",
       "hip hop             117.884798\n",
       "soul                117.248780\n",
       "R&B                 113.890473\n",
       "Name: tempo, dtype: float64"
      ]
     },
     "execution_count": 34,
     "metadata": {},
     "output_type": "execute_result"
    }
   ],
   "source": [
    "#On avgeage what genre has the fastest tempo \n",
    "avg_tempo = big_df.groupby('main_genre')['tempo'].mean().sort_values(ascending = False)\n",
    "avg_tempo"
   ]
  },
  {
   "cell_type": "code",
   "execution_count": 35,
   "id": "bd2df9ef-23d4-4f14-a5c7-09e71e4b1f73",
   "metadata": {
    "tags": []
   },
   "outputs": [
    {
     "data": {
      "text/plain": [
       "year\n",
       "2019.0    6172\n",
       "2018.0    2516\n",
       "2017.0    1913\n",
       "2016.0    1620\n",
       "2015.0    1505\n",
       "          ... \n",
       "1961.0       8\n",
       "1958.0       7\n",
       "1959.0       3\n",
       "1957.0       2\n",
       "1956.0       1\n",
       "Name: song, Length: 68, dtype: int64"
      ]
     },
     "execution_count": 35,
     "metadata": {},
     "output_type": "execute_result"
    }
   ],
   "source": [
    "#years with the most songs in the dataset \n",
    "Total_song_year = big_df.groupby('year')['song'].count().sort_values(ascending = False)\n",
    "Total_song_year"
   ]
  },
  {
   "cell_type": "code",
   "execution_count": 36,
   "id": "8dbff428-5643-4d62-96b9-df7b64a65542",
   "metadata": {
    "tags": []
   },
   "outputs": [
    {
     "data": {
      "text/html": [
       "<div>\n",
       "<style scoped>\n",
       "    .dataframe tbody tr th:only-of-type {\n",
       "        vertical-align: middle;\n",
       "    }\n",
       "\n",
       "    .dataframe tbody tr th {\n",
       "        vertical-align: top;\n",
       "    }\n",
       "\n",
       "    .dataframe thead th {\n",
       "        text-align: right;\n",
       "    }\n",
       "</style>\n",
       "<table border=\"1\" class=\"dataframe\">\n",
       "  <thead>\n",
       "    <tr style=\"text-align: right;\">\n",
       "      <th></th>\n",
       "      <th>main_genre</th>\n",
       "      <th>tempo</th>\n",
       "      <th>minutes</th>\n",
       "    </tr>\n",
       "  </thead>\n",
       "  <tbody>\n",
       "    <tr>\n",
       "      <th>0</th>\n",
       "      <td>pop</td>\n",
       "      <td>95.0</td>\n",
       "      <td>3.519333</td>\n",
       "    </tr>\n",
       "    <tr>\n",
       "      <th>1</th>\n",
       "      <td>rock</td>\n",
       "      <td>149.0</td>\n",
       "      <td>2.784433</td>\n",
       "    </tr>\n",
       "    <tr>\n",
       "      <th>2</th>\n",
       "      <td>pop</td>\n",
       "      <td>137.0</td>\n",
       "      <td>4.175767</td>\n",
       "    </tr>\n",
       "    <tr>\n",
       "      <th>3</th>\n",
       "      <td>rock</td>\n",
       "      <td>120.0</td>\n",
       "      <td>3.741550</td>\n",
       "    </tr>\n",
       "    <tr>\n",
       "      <th>4</th>\n",
       "      <td>pop</td>\n",
       "      <td>173.0</td>\n",
       "      <td>3.342667</td>\n",
       "    </tr>\n",
       "    <tr>\n",
       "      <th>...</th>\n",
       "      <td>...</td>\n",
       "      <td>...</td>\n",
       "      <td>...</td>\n",
       "    </tr>\n",
       "    <tr>\n",
       "      <th>32827</th>\n",
       "      <td>R&amp;B</td>\n",
       "      <td>106.0</td>\n",
       "      <td>4.855333</td>\n",
       "    </tr>\n",
       "    <tr>\n",
       "      <th>32828</th>\n",
       "      <td>R&amp;B</td>\n",
       "      <td>127.0</td>\n",
       "      <td>5.011550</td>\n",
       "    </tr>\n",
       "    <tr>\n",
       "      <th>32829</th>\n",
       "      <td>R&amp;B</td>\n",
       "      <td>100.0</td>\n",
       "      <td>2.847333</td>\n",
       "    </tr>\n",
       "    <tr>\n",
       "      <th>32830</th>\n",
       "      <td>R&amp;B</td>\n",
       "      <td>76.0</td>\n",
       "      <td>2.703333</td>\n",
       "    </tr>\n",
       "    <tr>\n",
       "      <th>32831</th>\n",
       "      <td>R&amp;B</td>\n",
       "      <td>135.0</td>\n",
       "      <td>2.862883</td>\n",
       "    </tr>\n",
       "  </tbody>\n",
       "</table>\n",
       "<p>29454 rows × 3 columns</p>\n",
       "</div>"
      ],
      "text/plain": [
       "      main_genre  tempo   minutes\n",
       "0            pop   95.0  3.519333\n",
       "1           rock  149.0  2.784433\n",
       "2            pop  137.0  4.175767\n",
       "3           rock  120.0  3.741550\n",
       "4            pop  173.0  3.342667\n",
       "...          ...    ...       ...\n",
       "32827        R&B  106.0  4.855333\n",
       "32828        R&B  127.0  5.011550\n",
       "32829        R&B  100.0  2.847333\n",
       "32830        R&B   76.0  2.703333\n",
       "32831        R&B  135.0  2.862883\n",
       "\n",
       "[29454 rows x 3 columns]"
      ]
     },
     "execution_count": 36,
     "metadata": {},
     "output_type": "execute_result"
    }
   ],
   "source": [
    "chart3 =  big_df[['main_genre','tempo', 'minutes']]\n",
    "chart3"
   ]
  },
  {
   "cell_type": "code",
   "execution_count": 37,
   "id": "1007bab9-c6cb-4454-bda4-34e2b3148c8e",
   "metadata": {
    "tags": []
   },
   "outputs": [
    {
     "data": {
      "text/html": [
       "<div>\n",
       "<style scoped>\n",
       "    .dataframe tbody tr th:only-of-type {\n",
       "        vertical-align: middle;\n",
       "    }\n",
       "\n",
       "    .dataframe tbody tr th {\n",
       "        vertical-align: top;\n",
       "    }\n",
       "\n",
       "    .dataframe thead th {\n",
       "        text-align: right;\n",
       "    }\n",
       "</style>\n",
       "<table border=\"1\" class=\"dataframe\">\n",
       "  <thead>\n",
       "    <tr style=\"text-align: right;\">\n",
       "      <th></th>\n",
       "      <th>loudness</th>\n",
       "      <th>tempo</th>\n",
       "      <th>minutes</th>\n",
       "    </tr>\n",
       "    <tr>\n",
       "      <th>main_genre</th>\n",
       "      <th></th>\n",
       "      <th></th>\n",
       "      <th></th>\n",
       "    </tr>\n",
       "  </thead>\n",
       "  <tbody>\n",
       "    <tr>\n",
       "      <th>Dance/Electronic</th>\n",
       "      <td>-5.968946</td>\n",
       "      <td>124.891892</td>\n",
       "      <td>4.042049</td>\n",
       "    </tr>\n",
       "    <tr>\n",
       "      <th>Other</th>\n",
       "      <td>-8.297442</td>\n",
       "      <td>121.578216</td>\n",
       "      <td>3.606211</td>\n",
       "    </tr>\n",
       "    <tr>\n",
       "      <th>R&amp;B</th>\n",
       "      <td>-8.068679</td>\n",
       "      <td>113.890473</td>\n",
       "      <td>3.968907</td>\n",
       "    </tr>\n",
       "    <tr>\n",
       "      <th>country</th>\n",
       "      <td>-8.380755</td>\n",
       "      <td>129.660377</td>\n",
       "      <td>3.362379</td>\n",
       "    </tr>\n",
       "    <tr>\n",
       "      <th>edm</th>\n",
       "      <td>-5.553183</td>\n",
       "      <td>126.247145</td>\n",
       "      <td>3.848132</td>\n",
       "    </tr>\n",
       "    <tr>\n",
       "      <th>hip hop</th>\n",
       "      <td>-5.778588</td>\n",
       "      <td>117.884798</td>\n",
       "      <td>3.885630</td>\n",
       "    </tr>\n",
       "    <tr>\n",
       "      <th>latin</th>\n",
       "      <td>-6.541792</td>\n",
       "      <td>119.000307</td>\n",
       "      <td>3.647511</td>\n",
       "    </tr>\n",
       "    <tr>\n",
       "      <th>pop</th>\n",
       "      <td>-6.589017</td>\n",
       "      <td>121.144841</td>\n",
       "      <td>3.685785</td>\n",
       "    </tr>\n",
       "    <tr>\n",
       "      <th>rap</th>\n",
       "      <td>-7.170953</td>\n",
       "      <td>120.619446</td>\n",
       "      <td>3.520967</td>\n",
       "    </tr>\n",
       "    <tr>\n",
       "      <th>rock</th>\n",
       "      <td>-7.797319</td>\n",
       "      <td>124.412142</td>\n",
       "      <td>4.000286</td>\n",
       "    </tr>\n",
       "    <tr>\n",
       "      <th>soul</th>\n",
       "      <td>-9.136107</td>\n",
       "      <td>117.248780</td>\n",
       "      <td>3.570492</td>\n",
       "    </tr>\n",
       "  </tbody>\n",
       "</table>\n",
       "</div>"
      ],
      "text/plain": [
       "                  loudness       tempo   minutes\n",
       "main_genre                                      \n",
       "Dance/Electronic -5.968946  124.891892  4.042049\n",
       "Other            -8.297442  121.578216  3.606211\n",
       "R&B              -8.068679  113.890473  3.968907\n",
       "country          -8.380755  129.660377  3.362379\n",
       "edm              -5.553183  126.247145  3.848132\n",
       "hip hop          -5.778588  117.884798  3.885630\n",
       "latin            -6.541792  119.000307  3.647511\n",
       "pop              -6.589017  121.144841  3.685785\n",
       "rap              -7.170953  120.619446  3.520967\n",
       "rock             -7.797319  124.412142  4.000286\n",
       "soul             -9.136107  117.248780  3.570492"
      ]
     },
     "execution_count": 37,
     "metadata": {},
     "output_type": "execute_result"
    }
   ],
   "source": [
    "#comparison across genre \n",
    "genre_compare_df = big_df.groupby('main_genre')[['loudness', 'tempo', 'minutes']].mean()\n",
    "#genre_compare_df.plot.scatter( 'loudness', 'tempo', s = genre_compare_df['minutes'] * 1000)\n",
    "genre_compare_df"
   ]
  },
  {
   "cell_type": "code",
   "execution_count": 38,
   "id": "3b967406-6e77-4b38-a2d7-c566bef8c6bc",
   "metadata": {
    "tags": []
   },
   "outputs": [
    {
     "data": {
      "text/plain": [
       "Queen                        121\n",
       "Martin Garrix                 61\n",
       "David Guetta                  56\n",
       "Calvin Harris                 52\n",
       "Don Omar                      52\n",
       "Dimitri Vegas & Like Mike     52\n",
       "Logic                         50\n",
       "The Chainsmokers              50\n",
       "Hardwell                      49\n",
       "Drake                         47\n",
       "Name: artist, dtype: int64"
      ]
     },
     "execution_count": 38,
     "metadata": {},
     "output_type": "execute_result"
    }
   ],
   "source": [
    "#who are the most popular singers in the dataset\n",
    "top_10_artists = big_df['artist'].value_counts().head(10)\n",
    "top_10_artists"
   ]
  },
  {
   "cell_type": "code",
   "execution_count": 39,
   "id": "d8d522f4-162a-40f0-838d-535f6ef848ed",
   "metadata": {
    "tags": []
   },
   "outputs": [],
   "source": [
    "#Data below is for tempo analysis"
   ]
  },
  {
   "cell_type": "code",
   "execution_count": 40,
   "id": "c957c9db-de2a-43de-9ac4-0c533ecfc789",
   "metadata": {
    "tags": []
   },
   "outputs": [
    {
     "data": {
      "image/png": "[encoded data removed]",
      "text/plain": [
       "<Figure size 640x480 with 1 Axes>"
      ]
     },
     "metadata": {},
     "output_type": "display_data"
    }
   ],
   "source": [
    "plt.scatter(big_df['tempo'], big_df['minutes'])\n",
    "plt.xlabel('Tempo')\n",
    "plt.ylabel('Duration (minutes)')\n",
    "plt.title('Scatter Plot of Duration vs. Tempo')\n",
    "plt.show()"
   ]
  },
  {
   "cell_type": "code",
   "execution_count": 41,
   "id": "300a274d-1ad8-4ceb-8560-9acb3213e4fc",
   "metadata": {
    "tags": []
   },
   "outputs": [],
   "source": [
    "#creating a pop df\n",
    "pop_df = big_df[big_df['main_genre'] == 'pop']"
   ]
  },
  {
   "cell_type": "code",
   "execution_count": 42,
   "id": "0a05209c-41ae-451b-a7ab-5747c135d4fb",
   "metadata": {
    "tags": []
   },
   "outputs": [],
   "source": [
    "#creating a rock df\n",
    "rock_df = big_df[big_df['main_genre'] == 'rock']"
   ]
  },
  {
   "cell_type": "code",
   "execution_count": 43,
   "id": "e5561347-1c54-44d0-844d-eb61a456e7db",
   "metadata": {
    "tags": []
   },
   "outputs": [
    {
     "data": {
      "image/png": "[encoded data removed]",
      "text/plain": [
       "<Figure size 640x480 with 1 Axes>"
      ]
     },
     "metadata": {},
     "output_type": "display_data"
    }
   ],
   "source": [
    "plt.scatter(pop_df['tempo'], pop_df['minutes'])\n",
    "plt.xlabel('Tempo')\n",
    "plt.ylabel('Duration (minutes)')\n",
    "plt.title('Scatter Plot of Duration vs. Tempo for Pop Genre')\n",
    "plt.show()"
   ]
  },
  {
   "cell_type": "code",
   "execution_count": null,
   "id": "05a530e2-bfe1-42ad-ab65-1bb4c519c8f3",
   "metadata": {},
   "outputs": [],
   "source": []
  },
  {
   "cell_type": "code",
   "execution_count": 51,
   "id": "ace61496-4a11-4fb5-91a2-9d12b3ae31fe",
   "metadata": {
    "tags": []
   },
   "outputs": [
    {
     "data": {
      "text/html": [
       "<div>\n",
       "<style scoped>\n",
       "    .dataframe tbody tr th:only-of-type {\n",
       "        vertical-align: middle;\n",
       "    }\n",
       "\n",
       "    .dataframe tbody tr th {\n",
       "        vertical-align: top;\n",
       "    }\n",
       "\n",
       "    .dataframe thead th {\n",
       "        text-align: right;\n",
       "    }\n",
       "</style>\n",
       "<table border=\"1\" class=\"dataframe\">\n",
       "  <thead>\n",
       "    <tr style=\"text-align: right;\">\n",
       "      <th></th>\n",
       "      <th>main_genre</th>\n",
       "      <th>tempo</th>\n",
       "    </tr>\n",
       "  </thead>\n",
       "  <tbody>\n",
       "    <tr>\n",
       "      <th>11345</th>\n",
       "      <td>rock</td>\n",
       "      <td>0.0</td>\n",
       "    </tr>\n",
       "    <tr>\n",
       "      <th>6816</th>\n",
       "      <td>soul</td>\n",
       "      <td>0.0</td>\n",
       "    </tr>\n",
       "    <tr>\n",
       "      <th>1204</th>\n",
       "      <td>pop</td>\n",
       "      <td>35.0</td>\n",
       "    </tr>\n",
       "    <tr>\n",
       "      <th>13556</th>\n",
       "      <td>rock</td>\n",
       "      <td>37.0</td>\n",
       "    </tr>\n",
       "    <tr>\n",
       "      <th>5628</th>\n",
       "      <td>rap</td>\n",
       "      <td>39.0</td>\n",
       "    </tr>\n",
       "    <tr>\n",
       "      <th>...</th>\n",
       "      <td>...</td>\n",
       "      <td>...</td>\n",
       "    </tr>\n",
       "    <tr>\n",
       "      <th>1623</th>\n",
       "      <td>rock</td>\n",
       "      <td>216.0</td>\n",
       "    </tr>\n",
       "    <tr>\n",
       "      <th>1501</th>\n",
       "      <td>rock</td>\n",
       "      <td>218.0</td>\n",
       "    </tr>\n",
       "    <tr>\n",
       "      <th>27859</th>\n",
       "      <td>edm</td>\n",
       "      <td>220.0</td>\n",
       "    </tr>\n",
       "    <tr>\n",
       "      <th>18129</th>\n",
       "      <td>latin</td>\n",
       "      <td>220.0</td>\n",
       "    </tr>\n",
       "    <tr>\n",
       "      <th>19744</th>\n",
       "      <td>latin</td>\n",
       "      <td>239.0</td>\n",
       "    </tr>\n",
       "  </tbody>\n",
       "</table>\n",
       "<p>28086 rows × 2 columns</p>\n",
       "</div>"
      ],
      "text/plain": [
       "      main_genre  tempo\n",
       "11345       rock    0.0\n",
       "6816        soul    0.0\n",
       "1204         pop   35.0\n",
       "13556       rock   37.0\n",
       "5628         rap   39.0\n",
       "...          ...    ...\n",
       "1623        rock  216.0\n",
       "1501        rock  218.0\n",
       "27859        edm  220.0\n",
       "18129      latin  220.0\n",
       "19744      latin  239.0\n",
       "\n",
       "[28086 rows x 2 columns]"
      ]
     },
     "execution_count": 51,
     "metadata": {},
     "output_type": "execute_result"
    }
   ],
   "source": [
    "tempo_df_all = big_df[['main_genre', 'tempo']].copy()\n",
    "# bin_edges = np.arange(0, 241, 4)\n",
    "# tempo_df['tempo_bins'] = (pd.cut(tempo_df['tempo'], bins=bin_edges, labels=bin_edges[1:])).astype(str)\n",
    "tempo_df = tempo_df_all[~tempo_df_all['main_genre'].isin(['Other', 'set()'])]\n",
    "tempo_df = tempo_df.sort_values(by='tempo')\n",
    "tempo_df"
   ]
  },
  {
   "cell_type": "code",
   "execution_count": 52,
   "id": "4717f89b-9146-4f04-ada4-d6d92960d16d",
   "metadata": {
    "tags": []
   },
   "outputs": [
    {
     "data": {
      "image/png": "[encoded data removed]",
      "text/plain": [
       "<Figure size 640x480 with 1 Axes>"
      ]
     },
     "metadata": {},
     "output_type": "display_data"
    }
   ],
   "source": [
    "tempo_detail = tempo_detail.sort_values('tempo', ascending=True)\n",
    "tempo_detail['tempo'].plot(kind='bar', color=['blue'] * (len(tempo_detail) - 1) + ['red'])\n",
    "plt.show()"
   ]
  },
  {
   "cell_type": "code",
   "execution_count": 46,
   "id": "94c066e3-575b-4ee4-a862-2cadc2015ad3",
   "metadata": {
    "tags": []
   },
   "outputs": [
    {
     "data": {
      "text/html": [
       "<div>\n",
       "<style scoped>\n",
       "    .dataframe tbody tr th:only-of-type {\n",
       "        vertical-align: middle;\n",
       "    }\n",
       "\n",
       "    .dataframe tbody tr th {\n",
       "        vertical-align: top;\n",
       "    }\n",
       "\n",
       "    .dataframe thead th {\n",
       "        text-align: right;\n",
       "    }\n",
       "</style>\n",
       "<table border=\"1\" class=\"dataframe\">\n",
       "  <thead>\n",
       "    <tr style=\"text-align: right;\">\n",
       "      <th></th>\n",
       "      <th>tempo</th>\n",
       "      <th>tempo_stdev</th>\n",
       "    </tr>\n",
       "    <tr>\n",
       "      <th>main_genre</th>\n",
       "      <th></th>\n",
       "      <th></th>\n",
       "    </tr>\n",
       "  </thead>\n",
       "  <tbody>\n",
       "    <tr>\n",
       "      <th>Dance/Electronic</th>\n",
       "      <td>124.891892</td>\n",
       "      <td>15.251200</td>\n",
       "    </tr>\n",
       "    <tr>\n",
       "      <th>Other</th>\n",
       "      <td>121.578216</td>\n",
       "      <td>25.207807</td>\n",
       "    </tr>\n",
       "    <tr>\n",
       "      <th>R&amp;B</th>\n",
       "      <td>113.890473</td>\n",
       "      <td>28.803188</td>\n",
       "    </tr>\n",
       "    <tr>\n",
       "      <th>country</th>\n",
       "      <td>129.660377</td>\n",
       "      <td>30.585909</td>\n",
       "    </tr>\n",
       "    <tr>\n",
       "      <th>edm</th>\n",
       "      <td>126.247145</td>\n",
       "      <td>14.248621</td>\n",
       "    </tr>\n",
       "    <tr>\n",
       "      <th>hip hop</th>\n",
       "      <td>117.884798</td>\n",
       "      <td>28.193358</td>\n",
       "    </tr>\n",
       "    <tr>\n",
       "      <th>latin</th>\n",
       "      <td>119.000307</td>\n",
       "      <td>29.172368</td>\n",
       "    </tr>\n",
       "    <tr>\n",
       "      <th>pop</th>\n",
       "      <td>121.144841</td>\n",
       "      <td>25.651947</td>\n",
       "    </tr>\n",
       "    <tr>\n",
       "      <th>rap</th>\n",
       "      <td>120.619446</td>\n",
       "      <td>31.427930</td>\n",
       "    </tr>\n",
       "    <tr>\n",
       "      <th>rock</th>\n",
       "      <td>124.412142</td>\n",
       "      <td>28.314347</td>\n",
       "    </tr>\n",
       "    <tr>\n",
       "      <th>soul</th>\n",
       "      <td>117.248780</td>\n",
       "      <td>26.352839</td>\n",
       "    </tr>\n",
       "  </tbody>\n",
       "</table>\n",
       "</div>"
      ],
      "text/plain": [
       "                       tempo  tempo_stdev\n",
       "main_genre                               \n",
       "Dance/Electronic  124.891892    15.251200\n",
       "Other             121.578216    25.207807\n",
       "R&B               113.890473    28.803188\n",
       "country           129.660377    30.585909\n",
       "edm               126.247145    14.248621\n",
       "hip hop           117.884798    28.193358\n",
       "latin             119.000307    29.172368\n",
       "pop               121.144841    25.651947\n",
       "rap               120.619446    31.427930\n",
       "rock              124.412142    28.314347\n",
       "soul              117.248780    26.352839"
      ]
     },
     "execution_count": 46,
     "metadata": {},
     "output_type": "execute_result"
    }
   ],
   "source": [
    "#tempo further analysis\n",
    "tempo_detail = big_df.groupby('main_genre')[['tempo']].mean()\n",
    "tempo_detail['tempo_stdev'] = big_df.groupby('main_genre')[['tempo']].std()\n",
    "tempo_detail"
   ]
  },
  {
   "cell_type": "code",
   "execution_count": 47,
   "id": "f6c5c486-8134-4ead-9454-f19b33b51554",
   "metadata": {
    "tags": []
   },
   "outputs": [
    {
     "data": {
      "image/png": "[encoded data removed]",
      "text/plain": [
       "<Figure size 1000x600 with 1 Axes>"
      ]
     },
     "metadata": {},
     "output_type": "display_data"
    }
   ],
   "source": [
    "tempo_counts = tempo_df.groupby(['main_genre', 'tempo']).size().reset_index(name='count')\n",
    "\n",
    "pivot_df = tempo_counts.pivot(index='tempo', columns='main_genre', values='count')\n",
    "\n",
    "pivot_df.plot(kind='line', marker='.', figsize=(10, 6))\n",
    "plt.title('Songs by Tempo for Each Genre')\n",
    "plt.xlabel('Tempo')\n",
    "plt.ylabel('Number of Songs')\n",
    "plt.legend(title='Genre')\n",
    "plt.show()"
   ]
  },
  {
   "cell_type": "code",
   "execution_count": 48,
   "id": "1853317a-2e1c-4d1e-8fd1-805d4419f762",
   "metadata": {
    "tags": []
   },
   "outputs": [
    {
     "data": {
      "image/png": "[encoded data removed]",
      "text/plain": [
       "<Figure size 640x480 with 1 Axes>"
      ]
     },
     "metadata": {},
     "output_type": "display_data"
    }
   ],
   "source": [
    "#figure out how to order by size \n",
    "import matplotlib.pyplot as plt\n",
    "for genre, group in tempo_counts.groupby('main_genre'):\n",
    "    plt.plot(group['tempo'], group['main_genre'], label=genre)"
   ]
  },
  {
   "cell_type": "code",
   "execution_count": null,
   "id": "655d192a-a72e-4525-bfb0-d55468418110",
   "metadata": {
    "tags": []
   },
   "outputs": [],
   "source": [
    "min_values = big_df.max()\n",
    "min_values\n"
   ]
  },
  {
   "cell_type": "code",
   "execution_count": null,
   "id": "44ef6575-e4f4-4a44-9839-277dca9090cd",
   "metadata": {},
   "outputs": [],
   "source": [
    "\n"
   ]
  },
  {
   "cell_type": "code",
   "execution_count": null,
   "id": "14b42efc-e6d1-4350-bffb-b5581873f491",
   "metadata": {
    "tags": []
   },
   "outputs": [],
   "source": [
    "big_df = big_df.sort_values('year', ascending=False)\n",
    "\n",
    "big_df.head(1000)\n",
    "\n"
   ]
  },
  {
   "cell_type": "code",
   "execution_count": null,
   "id": "84204cbc-d860-4aef-8e6b-55a96366ad29",
   "metadata": {},
   "outputs": [],
   "source": [
    "#Next Section is examaining the modality"
   ]
  },
  {
   "cell_type": "code",
   "execution_count": 53,
   "id": "ee387a2d-5856-4053-bcaf-783d6fad1bb6",
   "metadata": {
    "tags": []
   },
   "outputs": [
    {
     "data": {
      "text/plain": [
       "main_genre        mode\n",
       "Dance/Electronic  1.0       21\n",
       "                  0.0       16\n",
       "Other             1.0      976\n",
       "                  0.0      392\n",
       "R&B               1.0     1606\n",
       "                  0.0     1480\n",
       "country           1.0       51\n",
       "                  0.0        2\n",
       "edm               1.0     1908\n",
       "                  0.0     1770\n",
       "hip hop           1.0      455\n",
       "                  0.0      387\n",
       "latin             1.0     1843\n",
       "                  0.0     1413\n",
       "pop               1.0     4879\n",
       "                  0.0     2826\n",
       "rap               1.0     2380\n",
       "                  0.0     2166\n",
       "rock              1.0     3345\n",
       "                  0.0     1333\n",
       "soul              1.0      153\n",
       "                  0.0       52\n",
       "Name: mode, dtype: int64"
      ]
     },
     "execution_count": 53,
     "metadata": {},
     "output_type": "execute_result"
    }
   ],
   "source": [
    "#mode count by genre (fixed)\n",
    "mode_counts = big_df.groupby('main_genre')['mode'].value_counts()\n",
    "mode_counts\n"
   ]
  },
  {
   "cell_type": "code",
   "execution_count": 54,
   "id": "3aca1b56-2b4b-4e3c-927d-fbabfcde6b39",
   "metadata": {
    "tags": []
   },
   "outputs": [
    {
     "data": {
      "text/html": [
       "<div>\n",
       "<style scoped>\n",
       "    .dataframe tbody tr th:only-of-type {\n",
       "        vertical-align: middle;\n",
       "    }\n",
       "\n",
       "    .dataframe tbody tr th {\n",
       "        vertical-align: top;\n",
       "    }\n",
       "\n",
       "    .dataframe thead th {\n",
       "        text-align: right;\n",
       "    }\n",
       "</style>\n",
       "<table border=\"1\" class=\"dataframe\">\n",
       "  <thead>\n",
       "    <tr style=\"text-align: right;\">\n",
       "      <th></th>\n",
       "      <th>main_genre</th>\n",
       "      <th>mode</th>\n",
       "      <th>type</th>\n",
       "      <th>percentage</th>\n",
       "    </tr>\n",
       "  </thead>\n",
       "  <tbody>\n",
       "    <tr>\n",
       "      <th>0</th>\n",
       "      <td>Dance/Electronic</td>\n",
       "      <td>1.0</td>\n",
       "      <td>Major</td>\n",
       "      <td>56.76</td>\n",
       "    </tr>\n",
       "    <tr>\n",
       "      <th>1</th>\n",
       "      <td>Dance/Electronic</td>\n",
       "      <td>0.0</td>\n",
       "      <td>Minor</td>\n",
       "      <td>43.24</td>\n",
       "    </tr>\n",
       "    <tr>\n",
       "      <th>2</th>\n",
       "      <td>Other</td>\n",
       "      <td>1.0</td>\n",
       "      <td>Major</td>\n",
       "      <td>71.35</td>\n",
       "    </tr>\n",
       "    <tr>\n",
       "      <th>3</th>\n",
       "      <td>Other</td>\n",
       "      <td>0.0</td>\n",
       "      <td>Minor</td>\n",
       "      <td>28.65</td>\n",
       "    </tr>\n",
       "    <tr>\n",
       "      <th>4</th>\n",
       "      <td>R&amp;B</td>\n",
       "      <td>1.0</td>\n",
       "      <td>Major</td>\n",
       "      <td>52.04</td>\n",
       "    </tr>\n",
       "    <tr>\n",
       "      <th>5</th>\n",
       "      <td>R&amp;B</td>\n",
       "      <td>0.0</td>\n",
       "      <td>Minor</td>\n",
       "      <td>47.96</td>\n",
       "    </tr>\n",
       "    <tr>\n",
       "      <th>6</th>\n",
       "      <td>country</td>\n",
       "      <td>1.0</td>\n",
       "      <td>Major</td>\n",
       "      <td>96.23</td>\n",
       "    </tr>\n",
       "    <tr>\n",
       "      <th>7</th>\n",
       "      <td>country</td>\n",
       "      <td>0.0</td>\n",
       "      <td>Minor</td>\n",
       "      <td>3.77</td>\n",
       "    </tr>\n",
       "    <tr>\n",
       "      <th>8</th>\n",
       "      <td>edm</td>\n",
       "      <td>1.0</td>\n",
       "      <td>Major</td>\n",
       "      <td>51.88</td>\n",
       "    </tr>\n",
       "    <tr>\n",
       "      <th>9</th>\n",
       "      <td>edm</td>\n",
       "      <td>0.0</td>\n",
       "      <td>Minor</td>\n",
       "      <td>48.12</td>\n",
       "    </tr>\n",
       "    <tr>\n",
       "      <th>10</th>\n",
       "      <td>hip hop</td>\n",
       "      <td>1.0</td>\n",
       "      <td>Major</td>\n",
       "      <td>54.04</td>\n",
       "    </tr>\n",
       "    <tr>\n",
       "      <th>11</th>\n",
       "      <td>hip hop</td>\n",
       "      <td>0.0</td>\n",
       "      <td>Minor</td>\n",
       "      <td>45.96</td>\n",
       "    </tr>\n",
       "    <tr>\n",
       "      <th>12</th>\n",
       "      <td>latin</td>\n",
       "      <td>1.0</td>\n",
       "      <td>Major</td>\n",
       "      <td>56.60</td>\n",
       "    </tr>\n",
       "    <tr>\n",
       "      <th>13</th>\n",
       "      <td>latin</td>\n",
       "      <td>0.0</td>\n",
       "      <td>Minor</td>\n",
       "      <td>43.40</td>\n",
       "    </tr>\n",
       "    <tr>\n",
       "      <th>14</th>\n",
       "      <td>pop</td>\n",
       "      <td>1.0</td>\n",
       "      <td>Major</td>\n",
       "      <td>63.32</td>\n",
       "    </tr>\n",
       "    <tr>\n",
       "      <th>15</th>\n",
       "      <td>pop</td>\n",
       "      <td>0.0</td>\n",
       "      <td>Minor</td>\n",
       "      <td>36.68</td>\n",
       "    </tr>\n",
       "    <tr>\n",
       "      <th>16</th>\n",
       "      <td>rap</td>\n",
       "      <td>1.0</td>\n",
       "      <td>Major</td>\n",
       "      <td>52.35</td>\n",
       "    </tr>\n",
       "    <tr>\n",
       "      <th>17</th>\n",
       "      <td>rap</td>\n",
       "      <td>0.0</td>\n",
       "      <td>Minor</td>\n",
       "      <td>47.65</td>\n",
       "    </tr>\n",
       "    <tr>\n",
       "      <th>18</th>\n",
       "      <td>rock</td>\n",
       "      <td>1.0</td>\n",
       "      <td>Major</td>\n",
       "      <td>71.50</td>\n",
       "    </tr>\n",
       "    <tr>\n",
       "      <th>19</th>\n",
       "      <td>rock</td>\n",
       "      <td>0.0</td>\n",
       "      <td>Minor</td>\n",
       "      <td>28.50</td>\n",
       "    </tr>\n",
       "    <tr>\n",
       "      <th>20</th>\n",
       "      <td>soul</td>\n",
       "      <td>1.0</td>\n",
       "      <td>Major</td>\n",
       "      <td>74.63</td>\n",
       "    </tr>\n",
       "    <tr>\n",
       "      <th>21</th>\n",
       "      <td>soul</td>\n",
       "      <td>0.0</td>\n",
       "      <td>Minor</td>\n",
       "      <td>25.37</td>\n",
       "    </tr>\n",
       "  </tbody>\n",
       "</table>\n",
       "</div>"
      ],
      "text/plain": [
       "          main_genre  mode   type  percentage\n",
       "0   Dance/Electronic   1.0  Major       56.76\n",
       "1   Dance/Electronic   0.0  Minor       43.24\n",
       "2              Other   1.0  Major       71.35\n",
       "3              Other   0.0  Minor       28.65\n",
       "4                R&B   1.0  Major       52.04\n",
       "5                R&B   0.0  Minor       47.96\n",
       "6            country   1.0  Major       96.23\n",
       "7            country   0.0  Minor        3.77\n",
       "8                edm   1.0  Major       51.88\n",
       "9                edm   0.0  Minor       48.12\n",
       "10           hip hop   1.0  Major       54.04\n",
       "11           hip hop   0.0  Minor       45.96\n",
       "12             latin   1.0  Major       56.60\n",
       "13             latin   0.0  Minor       43.40\n",
       "14               pop   1.0  Major       63.32\n",
       "15               pop   0.0  Minor       36.68\n",
       "16               rap   1.0  Major       52.35\n",
       "17               rap   0.0  Minor       47.65\n",
       "18              rock   1.0  Major       71.50\n",
       "19              rock   0.0  Minor       28.50\n",
       "20              soul   1.0  Major       74.63\n",
       "21              soul   0.0  Minor       25.37"
      ]
     },
     "execution_count": 54,
     "metadata": {},
     "output_type": "execute_result"
    }
   ],
   "source": [
    "mode_perc = big_df.groupby('main_genre')['mode'].value_counts(normalize=True).rename('percentage').reset_index()\n",
    "\n",
    "mode_perc['percentage'] = (mode_perc['percentage'] * 100).round(2)\n",
    "#function to detect the type of key it is in \n",
    "mode_perc['type'] = mode_perc['mode'].apply(lambda x: 'Major' if x == 1 else 'Minor')\n",
    "# rearranging the order of the columns\n",
    "mode_perc = mode_perc.iloc[:,[0,1,3,2]]\n",
    "mode_perc"
   ]
  },
  {
   "cell_type": "code",
   "execution_count": 67,
   "id": "80b76cde-d0d8-434d-aab1-0547999def03",
   "metadata": {
    "tags": []
   },
   "outputs": [],
   "source": [
    "pop_data = mode_perc[mode_perc['main_genre'] == 'pop']\n",
    "edm_data = mode_perc[mode_perc['main_genre'] == 'edm']\n",
    "rock_data = mode_perc[mode_perc['main_genre'] == 'rock']\n",
    "rnb_data = mode_perc[mode_perc['main_genre'] == 'R&B']\n",
    "hiphop_data =  mode_perc[mode_perc['main_genre'] == 'hip hop']\n",
    "latin_data = mode_perc[mode_perc['main_genre'] == 'latin']\n",
    "other_data = mode_perc[mode_perc['main_genre'] == 'Other']\n",
    "soul_data = mode_perc[mode_perc['main_genre'] == 'soul']\n",
    "rap_data = mode_perc[mode_perc['main_genre'] == 'rap']\n",
    "electronic_data = mode_perc[mode_perc['main_genre'] == 'Dance/Electronic']\n",
    "country_data = mode_perc[mode_perc['main_genre'] == 'country']\n"
   ]
  },
  {
   "cell_type": "code",
   "execution_count": 68,
   "id": "530b53e1-c3c3-42f4-b5be-3f97ba022952",
   "metadata": {
    "tags": []
   },
   "outputs": [
    {
     "name": "stdin",
     "output_type": "stream",
     "text": [
      "Enter a music genre:  country\n"
     ]
    },
    {
     "data": {
      "application/vnd.plotly.v1+json": {
       "config": {
        "plotlyServerURL": "https://plot.ly"
       },
       "data": [
        {
         "labels": [
          "Major",
          "Minor"
         ],
         "type": "pie",
         "values": [
          96.23,
          3.77
         ]
        }
       ],
       "layout": {
        "autosize": true,
        "template": {
         "data": {
          "bar": [
           {
            "error_x": {
             "color": "#2a3f5f"
            },
            "error_y": {
             "color": "#2a3f5f"
            },
            "marker": {
             "line": {
              "color": "#E5ECF6",
              "width": 0.5
             },
             "pattern": {
              "fillmode": "overlay",
              "size": 10,
              "solidity": 0.2
             }
            },
            "type": "bar"
           }
          ],
          "barpolar": [
           {
            "marker": {
             "line": {
              "color": "#E5ECF6",
              "width": 0.5
             },
             "pattern": {
              "fillmode": "overlay",
              "size": 10,
              "solidity": 0.2
             }
            },
            "type": "barpolar"
           }
          ],
          "carpet": [
           {
            "aaxis": {
             "endlinecolor": "#2a3f5f",
             "gridcolor": "white",
             "linecolor": "white",
             "minorgridcolor": "white",
             "startlinecolor": "#2a3f5f"
            },
            "baxis": {
             "endlinecolor": "#2a3f5f",
             "gridcolor": "white",
             "linecolor": "white",
             "minorgridcolor": "white",
             "startlinecolor": "#2a3f5f"
            },
            "type": "carpet"
           }
          ],
          "choropleth": [
           {
            "colorbar": {
             "outlinewidth": 0,
             "ticks": ""
            },
            "type": "choropleth"
           }
          ],
          "contour": [
           {
            "colorbar": {
             "outlinewidth": 0,
             "ticks": ""
            },
            "colorscale": [
             [
              0,
              "#0d0887"
             ],
             [
              0.1111111111111111,
              "#46039f"
             ],
             [
              0.2222222222222222,
              "#7201a8"
             ],
             [
              0.3333333333333333,
              "#9c179e"
             ],
             [
              0.4444444444444444,
              "#bd3786"
             ],
             [
              0.5555555555555556,
              "#d8576b"
             ],
             [
              0.6666666666666666,
              "#ed7953"
             ],
             [
              0.7777777777777778,
              "#fb9f3a"
             ],
             [
              0.8888888888888888,
              "#fdca26"
             ],
             [
              1,
              "#f0f921"
             ]
            ],
            "type": "contour"
           }
          ],
          "contourcarpet": [
           {
            "colorbar": {
             "outlinewidth": 0,
             "ticks": ""
            },
            "type": "contourcarpet"
           }
          ],
          "heatmap": [
           {
            "colorbar": {
             "outlinewidth": 0,
             "ticks": ""
            },
            "colorscale": [
             [
              0,
              "#0d0887"
             ],
             [
              0.1111111111111111,
              "#46039f"
             ],
             [
              0.2222222222222222,
              "#7201a8"
             ],
             [
              0.3333333333333333,
              "#9c179e"
             ],
             [
              0.4444444444444444,
              "#bd3786"
             ],
             [
              0.5555555555555556,
              "#d8576b"
             ],
             [
              0.6666666666666666,
              "#ed7953"
             ],
             [
              0.7777777777777778,
              "#fb9f3a"
             ],
             [
              0.8888888888888888,
              "#fdca26"
             ],
             [
              1,
              "#f0f921"
             ]
            ],
            "type": "heatmap"
           }
          ],
          "heatmapgl": [
           {
            "colorbar": {
             "outlinewidth": 0,
             "ticks": ""
            },
            "colorscale": [
             [
              0,
              "#0d0887"
             ],
             [
              0.1111111111111111,
              "#46039f"
             ],
             [
              0.2222222222222222,
              "#7201a8"
             ],
             [
              0.3333333333333333,
              "#9c179e"
             ],
             [
              0.4444444444444444,
              "#bd3786"
             ],
             [
              0.5555555555555556,
              "#d8576b"
             ],
             [
              0.6666666666666666,
              "#ed7953"
             ],
             [
              0.7777777777777778,
              "#fb9f3a"
             ],
             [
              0.8888888888888888,
              "#fdca26"
             ],
             [
              1,
              "#f0f921"
             ]
            ],
            "type": "heatmapgl"
           }
          ],
          "histogram": [
           {
            "marker": {
             "pattern": {
              "fillmode": "overlay",
              "size": 10,
              "solidity": 0.2
             }
            },
            "type": "histogram"
           }
          ],
          "histogram2d": [
           {
            "colorbar": {
             "outlinewidth": 0,
             "ticks": ""
            },
            "colorscale": [
             [
              0,
              "#0d0887"
             ],
             [
              0.1111111111111111,
              "#46039f"
             ],
             [
              0.2222222222222222,
              "#7201a8"
             ],
             [
              0.3333333333333333,
              "#9c179e"
             ],
             [
              0.4444444444444444,
              "#bd3786"
             ],
             [
              0.5555555555555556,
              "#d8576b"
             ],
             [
              0.6666666666666666,
              "#ed7953"
             ],
             [
              0.7777777777777778,
              "#fb9f3a"
             ],
             [
              0.8888888888888888,
              "#fdca26"
             ],
             [
              1,
              "#f0f921"
             ]
            ],
            "type": "histogram2d"
           }
          ],
          "histogram2dcontour": [
           {
            "colorbar": {
             "outlinewidth": 0,
             "ticks": ""
            },
            "colorscale": [
             [
              0,
              "#0d0887"
             ],
             [
              0.1111111111111111,
              "#46039f"
             ],
             [
              0.2222222222222222,
              "#7201a8"
             ],
             [
              0.3333333333333333,
              "#9c179e"
             ],
             [
              0.4444444444444444,
              "#bd3786"
             ],
             [
              0.5555555555555556,
              "#d8576b"
             ],
             [
              0.6666666666666666,
              "#ed7953"
             ],
             [
              0.7777777777777778,
              "#fb9f3a"
             ],
             [
              0.8888888888888888,
              "#fdca26"
             ],
             [
              1,
              "#f0f921"
             ]
            ],
            "type": "histogram2dcontour"
           }
          ],
          "mesh3d": [
           {
            "colorbar": {
             "outlinewidth": 0,
             "ticks": ""
            },
            "type": "mesh3d"
           }
          ],
          "parcoords": [
           {
            "line": {
             "colorbar": {
              "outlinewidth": 0,
              "ticks": ""
             }
            },
            "type": "parcoords"
           }
          ],
          "pie": [
           {
            "automargin": true,
            "type": "pie"
           }
          ],
          "scatter": [
           {
            "fillpattern": {
             "fillmode": "overlay",
             "size": 10,
             "solidity": 0.2
            },
            "type": "scatter"
           }
          ],
          "scatter3d": [
           {
            "line": {
             "colorbar": {
              "outlinewidth": 0,
              "ticks": ""
             }
            },
            "marker": {
             "colorbar": {
              "outlinewidth": 0,
              "ticks": ""
             }
            },
            "type": "scatter3d"
           }
          ],
          "scattercarpet": [
           {
            "marker": {
             "colorbar": {
              "outlinewidth": 0,
              "ticks": ""
             }
            },
            "type": "scattercarpet"
           }
          ],
          "scattergeo": [
           {
            "marker": {
             "colorbar": {
              "outlinewidth": 0,
              "ticks": ""
             }
            },
            "type": "scattergeo"
           }
          ],
          "scattergl": [
           {
            "marker": {
             "colorbar": {
              "outlinewidth": 0,
              "ticks": ""
             }
            },
            "type": "scattergl"
           }
          ],
          "scattermapbox": [
           {
            "marker": {
             "colorbar": {
              "outlinewidth": 0,
              "ticks": ""
             }
            },
            "type": "scattermapbox"
           }
          ],
          "scatterpolar": [
           {
            "marker": {
             "colorbar": {
              "outlinewidth": 0,
              "ticks": ""
             }
            },
            "type": "scatterpolar"
           }
          ],
          "scatterpolargl": [
           {
            "marker": {
             "colorbar": {
              "outlinewidth": 0,
              "ticks": ""
             }
            },
            "type": "scatterpolargl"
           }
          ],
          "scatterternary": [
           {
            "marker": {
             "colorbar": {
              "outlinewidth": 0,
              "ticks": ""
             }
            },
            "type": "scatterternary"
           }
          ],
          "surface": [
           {
            "colorbar": {
             "outlinewidth": 0,
             "ticks": ""
            },
            "colorscale": [
             [
              0,
              "#0d0887"
             ],
             [
              0.1111111111111111,
              "#46039f"
             ],
             [
              0.2222222222222222,
              "#7201a8"
             ],
             [
              0.3333333333333333,
              "#9c179e"
             ],
             [
              0.4444444444444444,
              "#bd3786"
             ],
             [
              0.5555555555555556,
              "#d8576b"
             ],
             [
              0.6666666666666666,
              "#ed7953"
             ],
             [
              0.7777777777777778,
              "#fb9f3a"
             ],
             [
              0.8888888888888888,
              "#fdca26"
             ],
             [
              1,
              "#f0f921"
             ]
            ],
            "type": "surface"
           }
          ],
          "table": [
           {
            "cells": {
             "fill": {
              "color": "#EBF0F8"
             },
             "line": {
              "color": "white"
             }
            },
            "header": {
             "fill": {
              "color": "#C8D4E3"
             },
             "line": {
              "color": "white"
             }
            },
            "type": "table"
           }
          ]
         },
         "layout": {
          "annotationdefaults": {
           "arrowcolor": "#2a3f5f",
           "arrowhead": 0,
           "arrowwidth": 1
          },
          "autotypenumbers": "strict",
          "coloraxis": {
           "colorbar": {
            "outlinewidth": 0,
            "ticks": ""
           }
          },
          "colorscale": {
           "diverging": [
            [
             0,
             "#8e0152"
            ],
            [
             0.1,
             "#c51b7d"
            ],
            [
             0.2,
             "#de77ae"
            ],
            [
             0.3,
             "#f1b6da"
            ],
            [
             0.4,
             "#fde0ef"
            ],
            [
             0.5,
             "#f7f7f7"
            ],
            [
             0.6,
             "#e6f5d0"
            ],
            [
             0.7,
             "#b8e186"
            ],
            [
             0.8,
             "#7fbc41"
            ],
            [
             0.9,
             "#4d9221"
            ],
            [
             1,
             "#276419"
            ]
           ],
           "sequential": [
            [
             0,
             "#0d0887"
            ],
            [
             0.1111111111111111,
             "#46039f"
            ],
            [
             0.2222222222222222,
             "#7201a8"
            ],
            [
             0.3333333333333333,
             "#9c179e"
            ],
            [
             0.4444444444444444,
             "#bd3786"
            ],
            [
             0.5555555555555556,
             "#d8576b"
            ],
            [
             0.6666666666666666,
             "#ed7953"
            ],
            [
             0.7777777777777778,
             "#fb9f3a"
            ],
            [
             0.8888888888888888,
             "#fdca26"
            ],
            [
             1,
             "#f0f921"
            ]
           ],
           "sequentialminus": [
            [
             0,
             "#0d0887"
            ],
            [
             0.1111111111111111,
             "#46039f"
            ],
            [
             0.2222222222222222,
             "#7201a8"
            ],
            [
             0.3333333333333333,
             "#9c179e"
            ],
            [
             0.4444444444444444,
             "#bd3786"
            ],
            [
             0.5555555555555556,
             "#d8576b"
            ],
            [
             0.6666666666666666,
             "#ed7953"
            ],
            [
             0.7777777777777778,
             "#fb9f3a"
            ],
            [
             0.8888888888888888,
             "#fdca26"
            ],
            [
             1,
             "#f0f921"
            ]
           ]
          },
          "colorway": [
           "#636efa",
           "#EF553B",
           "#00cc96",
           "#ab63fa",
           "#FFA15A",
           "#19d3f3",
           "#FF6692",
           "#B6E880",
           "#FF97FF",
           "#FECB52"
          ],
          "font": {
           "color": "#2a3f5f"
          },
          "geo": {
           "bgcolor": "white",
           "lakecolor": "white",
           "landcolor": "#E5ECF6",
           "showlakes": true,
           "showland": true,
           "subunitcolor": "white"
          },
          "hoverlabel": {
           "align": "left"
          },
          "hovermode": "closest",
          "mapbox": {
           "style": "light"
          },
          "paper_bgcolor": "white",
          "plot_bgcolor": "#E5ECF6",
          "polar": {
           "angularaxis": {
            "gridcolor": "white",
            "linecolor": "white",
            "ticks": ""
           },
           "bgcolor": "#E5ECF6",
           "radialaxis": {
            "gridcolor": "white",
            "linecolor": "white",
            "ticks": ""
           }
          },
          "scene": {
           "xaxis": {
            "backgroundcolor": "#E5ECF6",
            "gridcolor": "white",
            "gridwidth": 2,
            "linecolor": "white",
            "showbackground": true,
            "ticks": "",
            "zerolinecolor": "white"
           },
           "yaxis": {
            "backgroundcolor": "#E5ECF6",
            "gridcolor": "white",
            "gridwidth": 2,
            "linecolor": "white",
            "showbackground": true,
            "ticks": "",
            "zerolinecolor": "white"
           },
           "zaxis": {
            "backgroundcolor": "#E5ECF6",
            "gridcolor": "white",
            "gridwidth": 2,
            "linecolor": "white",
            "showbackground": true,
            "ticks": "",
            "zerolinecolor": "white"
           }
          },
          "shapedefaults": {
           "line": {
            "color": "#2a3f5f"
           }
          },
          "ternary": {
           "aaxis": {
            "gridcolor": "white",
            "linecolor": "white",
            "ticks": ""
           },
           "baxis": {
            "gridcolor": "white",
            "linecolor": "white",
            "ticks": ""
           },
           "bgcolor": "#E5ECF6",
           "caxis": {
            "gridcolor": "white",
            "linecolor": "white",
            "ticks": ""
           }
          },
          "title": {
           "x": 0.05
          },
          "xaxis": {
           "automargin": true,
           "gridcolor": "white",
           "linecolor": "white",
           "ticks": "",
           "title": {
            "standoff": 15
           },
           "zerolinecolor": "white",
           "zerolinewidth": 2
          },
          "yaxis": {
           "automargin": true,
           "gridcolor": "white",
           "linecolor": "white",
           "ticks": "",
           "title": {
            "standoff": 15
           },
           "zerolinecolor": "white",
           "zerolinewidth": 2
          }
         }
        },
        "title": {
         "text": "Mode Percentage for country"
        }
       }
      },
      "image/png": "[encoded data removed]",
      "text/html": [
       "<div>                            <div id=\"db095118-ad7e-4337-a7cb-ae31abbec4a0\" class=\"plotly-graph-div\" style=\"height:525px; width:100%;\"></div>            <script type=\"text/javascript\">                require([\"plotly\"], function(Plotly) {                    window.PLOTLYENV=window.PLOTLYENV || {};                                    if (document.getElementById(\"db095118-ad7e-4337-a7cb-ae31abbec4a0\")) {                    Plotly.newPlot(                        \"db095118-ad7e-4337-a7cb-ae31abbec4a0\",                        [{\"labels\":[\"Major\",\"Minor\"],\"values\":[96.23,3.77],\"type\":\"pie\"}],                        {\"template\":{\"data\":{\"histogram2dcontour\":[{\"type\":\"histogram2dcontour\",\"colorbar\":{\"outlinewidth\":0,\"ticks\":\"\"},\"colorscale\":[[0.0,\"#0d0887\"],[0.1111111111111111,\"#46039f\"],[0.2222222222222222,\"#7201a8\"],[0.3333333333333333,\"#9c179e\"],[0.4444444444444444,\"#bd3786\"],[0.5555555555555556,\"#d8576b\"],[0.6666666666666666,\"#ed7953\"],[0.7777777777777778,\"#fb9f3a\"],[0.8888888888888888,\"#fdca26\"],[1.0,\"#f0f921\"]]}],\"choropleth\":[{\"type\":\"choropleth\",\"colorbar\":{\"outlinewidth\":0,\"ticks\":\"\"}}],\"histogram2d\":[{\"type\":\"histogram2d\",\"colorbar\":{\"outlinewidth\":0,\"ticks\":\"\"},\"colorscale\":[[0.0,\"#0d0887\"],[0.1111111111111111,\"#46039f\"],[0.2222222222222222,\"#7201a8\"],[0.3333333333333333,\"#9c179e\"],[0.4444444444444444,\"#bd3786\"],[0.5555555555555556,\"#d8576b\"],[0.6666666666666666,\"#ed7953\"],[0.7777777777777778,\"#fb9f3a\"],[0.8888888888888888,\"#fdca26\"],[1.0,\"#f0f921\"]]}],\"heatmap\":[{\"type\":\"heatmap\",\"colorbar\":{\"outlinewidth\":0,\"ticks\":\"\"},\"colorscale\":[[0.0,\"#0d0887\"],[0.1111111111111111,\"#46039f\"],[0.2222222222222222,\"#7201a8\"],[0.3333333333333333,\"#9c179e\"],[0.4444444444444444,\"#bd3786\"],[0.5555555555555556,\"#d8576b\"],[0.6666666666666666,\"#ed7953\"],[0.7777777777777778,\"#fb9f3a\"],[0.8888888888888888,\"#fdca26\"],[1.0,\"#f0f921\"]]}],\"heatmapgl\":[{\"type\":\"heatmapgl\",\"colorbar\":{\"outlinewidth\":0,\"ticks\":\"\"},\"colorscale\":[[0.0,\"#0d0887\"],[0.1111111111111111,\"#46039f\"],[0.2222222222222222,\"#7201a8\"],[0.3333333333333333,\"#9c179e\"],[0.4444444444444444,\"#bd3786\"],[0.5555555555555556,\"#d8576b\"],[0.6666666666666666,\"#ed7953\"],[0.7777777777777778,\"#fb9f3a\"],[0.8888888888888888,\"#fdca26\"],[1.0,\"#f0f921\"]]}],\"contourcarpet\":[{\"type\":\"contourcarpet\",\"colorbar\":{\"outlinewidth\":0,\"ticks\":\"\"}}],\"contour\":[{\"type\":\"contour\",\"colorbar\":{\"outlinewidth\":0,\"ticks\":\"\"},\"colorscale\":[[0.0,\"#0d0887\"],[0.1111111111111111,\"#46039f\"],[0.2222222222222222,\"#7201a8\"],[0.3333333333333333,\"#9c179e\"],[0.4444444444444444,\"#bd3786\"],[0.5555555555555556,\"#d8576b\"],[0.6666666666666666,\"#ed7953\"],[0.7777777777777778,\"#fb9f3a\"],[0.8888888888888888,\"#fdca26\"],[1.0,\"#f0f921\"]]}],\"surface\":[{\"type\":\"surface\",\"colorbar\":{\"outlinewidth\":0,\"ticks\":\"\"},\"colorscale\":[[0.0,\"#0d0887\"],[0.1111111111111111,\"#46039f\"],[0.2222222222222222,\"#7201a8\"],[0.3333333333333333,\"#9c179e\"],[0.4444444444444444,\"#bd3786\"],[0.5555555555555556,\"#d8576b\"],[0.6666666666666666,\"#ed7953\"],[0.7777777777777778,\"#fb9f3a\"],[0.8888888888888888,\"#fdca26\"],[1.0,\"#f0f921\"]]}],\"mesh3d\":[{\"type\":\"mesh3d\",\"colorbar\":{\"outlinewidth\":0,\"ticks\":\"\"}}],\"scatter\":[{\"fillpattern\":{\"fillmode\":\"overlay\",\"size\":10,\"solidity\":0.2},\"type\":\"scatter\"}],\"parcoords\":[{\"type\":\"parcoords\",\"line\":{\"colorbar\":{\"outlinewidth\":0,\"ticks\":\"\"}}}],\"scatterpolargl\":[{\"type\":\"scatterpolargl\",\"marker\":{\"colorbar\":{\"outlinewidth\":0,\"ticks\":\"\"}}}],\"bar\":[{\"error_x\":{\"color\":\"#2a3f5f\"},\"error_y\":{\"color\":\"#2a3f5f\"},\"marker\":{\"line\":{\"color\":\"#E5ECF6\",\"width\":0.5},\"pattern\":{\"fillmode\":\"overlay\",\"size\":10,\"solidity\":0.2}},\"type\":\"bar\"}],\"scattergeo\":[{\"type\":\"scattergeo\",\"marker\":{\"colorbar\":{\"outlinewidth\":0,\"ticks\":\"\"}}}],\"scatterpolar\":[{\"type\":\"scatterpolar\",\"marker\":{\"colorbar\":{\"outlinewidth\":0,\"ticks\":\"\"}}}],\"histogram\":[{\"marker\":{\"pattern\":{\"fillmode\":\"overlay\",\"size\":10,\"solidity\":0.2}},\"type\":\"histogram\"}],\"scattergl\":[{\"type\":\"scattergl\",\"marker\":{\"colorbar\":{\"outlinewidth\":0,\"ticks\":\"\"}}}],\"scatter3d\":[{\"type\":\"scatter3d\",\"line\":{\"colorbar\":{\"outlinewidth\":0,\"ticks\":\"\"}},\"marker\":{\"colorbar\":{\"outlinewidth\":0,\"ticks\":\"\"}}}],\"scattermapbox\":[{\"type\":\"scattermapbox\",\"marker\":{\"colorbar\":{\"outlinewidth\":0,\"ticks\":\"\"}}}],\"scatterternary\":[{\"type\":\"scatterternary\",\"marker\":{\"colorbar\":{\"outlinewidth\":0,\"ticks\":\"\"}}}],\"scattercarpet\":[{\"type\":\"scattercarpet\",\"marker\":{\"colorbar\":{\"outlinewidth\":0,\"ticks\":\"\"}}}],\"carpet\":[{\"aaxis\":{\"endlinecolor\":\"#2a3f5f\",\"gridcolor\":\"white\",\"linecolor\":\"white\",\"minorgridcolor\":\"white\",\"startlinecolor\":\"#2a3f5f\"},\"baxis\":{\"endlinecolor\":\"#2a3f5f\",\"gridcolor\":\"white\",\"linecolor\":\"white\",\"minorgridcolor\":\"white\",\"startlinecolor\":\"#2a3f5f\"},\"type\":\"carpet\"}],\"table\":[{\"cells\":{\"fill\":{\"color\":\"#EBF0F8\"},\"line\":{\"color\":\"white\"}},\"header\":{\"fill\":{\"color\":\"#C8D4E3\"},\"line\":{\"color\":\"white\"}},\"type\":\"table\"}],\"barpolar\":[{\"marker\":{\"line\":{\"color\":\"#E5ECF6\",\"width\":0.5},\"pattern\":{\"fillmode\":\"overlay\",\"size\":10,\"solidity\":0.2}},\"type\":\"barpolar\"}],\"pie\":[{\"automargin\":true,\"type\":\"pie\"}]},\"layout\":{\"autotypenumbers\":\"strict\",\"colorway\":[\"#636efa\",\"#EF553B\",\"#00cc96\",\"#ab63fa\",\"#FFA15A\",\"#19d3f3\",\"#FF6692\",\"#B6E880\",\"#FF97FF\",\"#FECB52\"],\"font\":{\"color\":\"#2a3f5f\"},\"hovermode\":\"closest\",\"hoverlabel\":{\"align\":\"left\"},\"paper_bgcolor\":\"white\",\"plot_bgcolor\":\"#E5ECF6\",\"polar\":{\"bgcolor\":\"#E5ECF6\",\"angularaxis\":{\"gridcolor\":\"white\",\"linecolor\":\"white\",\"ticks\":\"\"},\"radialaxis\":{\"gridcolor\":\"white\",\"linecolor\":\"white\",\"ticks\":\"\"}},\"ternary\":{\"bgcolor\":\"#E5ECF6\",\"aaxis\":{\"gridcolor\":\"white\",\"linecolor\":\"white\",\"ticks\":\"\"},\"baxis\":{\"gridcolor\":\"white\",\"linecolor\":\"white\",\"ticks\":\"\"},\"caxis\":{\"gridcolor\":\"white\",\"linecolor\":\"white\",\"ticks\":\"\"}},\"coloraxis\":{\"colorbar\":{\"outlinewidth\":0,\"ticks\":\"\"}},\"colorscale\":{\"sequential\":[[0.0,\"#0d0887\"],[0.1111111111111111,\"#46039f\"],[0.2222222222222222,\"#7201a8\"],[0.3333333333333333,\"#9c179e\"],[0.4444444444444444,\"#bd3786\"],[0.5555555555555556,\"#d8576b\"],[0.6666666666666666,\"#ed7953\"],[0.7777777777777778,\"#fb9f3a\"],[0.8888888888888888,\"#fdca26\"],[1.0,\"#f0f921\"]],\"sequentialminus\":[[0.0,\"#0d0887\"],[0.1111111111111111,\"#46039f\"],[0.2222222222222222,\"#7201a8\"],[0.3333333333333333,\"#9c179e\"],[0.4444444444444444,\"#bd3786\"],[0.5555555555555556,\"#d8576b\"],[0.6666666666666666,\"#ed7953\"],[0.7777777777777778,\"#fb9f3a\"],[0.8888888888888888,\"#fdca26\"],[1.0,\"#f0f921\"]],\"diverging\":[[0,\"#8e0152\"],[0.1,\"#c51b7d\"],[0.2,\"#de77ae\"],[0.3,\"#f1b6da\"],[0.4,\"#fde0ef\"],[0.5,\"#f7f7f7\"],[0.6,\"#e6f5d0\"],[0.7,\"#b8e186\"],[0.8,\"#7fbc41\"],[0.9,\"#4d9221\"],[1,\"#276419\"]]},\"xaxis\":{\"gridcolor\":\"white\",\"linecolor\":\"white\",\"ticks\":\"\",\"title\":{\"standoff\":15},\"zerolinecolor\":\"white\",\"automargin\":true,\"zerolinewidth\":2},\"yaxis\":{\"gridcolor\":\"white\",\"linecolor\":\"white\",\"ticks\":\"\",\"title\":{\"standoff\":15},\"zerolinecolor\":\"white\",\"automargin\":true,\"zerolinewidth\":2},\"scene\":{\"xaxis\":{\"backgroundcolor\":\"#E5ECF6\",\"gridcolor\":\"white\",\"linecolor\":\"white\",\"showbackground\":true,\"ticks\":\"\",\"zerolinecolor\":\"white\",\"gridwidth\":2},\"yaxis\":{\"backgroundcolor\":\"#E5ECF6\",\"gridcolor\":\"white\",\"linecolor\":\"white\",\"showbackground\":true,\"ticks\":\"\",\"zerolinecolor\":\"white\",\"gridwidth\":2},\"zaxis\":{\"backgroundcolor\":\"#E5ECF6\",\"gridcolor\":\"white\",\"linecolor\":\"white\",\"showbackground\":true,\"ticks\":\"\",\"zerolinecolor\":\"white\",\"gridwidth\":2}},\"shapedefaults\":{\"line\":{\"color\":\"#2a3f5f\"}},\"annotationdefaults\":{\"arrowcolor\":\"#2a3f5f\",\"arrowhead\":0,\"arrowwidth\":1},\"geo\":{\"bgcolor\":\"white\",\"landcolor\":\"#E5ECF6\",\"subunitcolor\":\"white\",\"showland\":true,\"showlakes\":true,\"lakecolor\":\"white\"},\"title\":{\"x\":0.05},\"mapbox\":{\"style\":\"light\"}}},\"title\":{\"text\":\"Mode Percentage for country\"}},                        {\"responsive\": true}                    ).then(function(){\n",
       "                            \n",
       "var gd = document.getElementById('db095118-ad7e-4337-a7cb-ae31abbec4a0');\n",
       "var x = new MutationObserver(function (mutations, observer) {{\n",
       "        var display = window.getComputedStyle(gd).display;\n",
       "        if (!display || display === 'none') {{\n",
       "            console.log([gd, 'removed!']);\n",
       "            Plotly.purge(gd);\n",
       "            observer.disconnect();\n",
       "        }}\n",
       "}});\n",
       "\n",
       "// Listen for the removal of the full notebook cells\n",
       "var notebookContainer = gd.closest('#notebook-container');\n",
       "if (notebookContainer) {{\n",
       "    x.observe(notebookContainer, {childList: true});\n",
       "}}\n",
       "\n",
       "// Listen for the clearing of the current output cell\n",
       "var outputEl = gd.closest('.output');\n",
       "if (outputEl) {{\n",
       "    x.observe(outputEl, {childList: true});\n",
       "}}\n",
       "\n",
       "                        })                };                });            </script>        </div>"
      ]
     },
     "metadata": {},
     "output_type": "display_data"
    }
   ],
   "source": [
    "import plotly.graph_objects as go\n",
    "\n",
    "#dictionary mapping to select what dataset you want to use \n",
    "music_genres = {\n",
    "    \"Dance/Electronic\": electronic_data,\n",
    "    \"rock\": rock_data,\n",
    "    \"r&b\": rnb_data,\n",
    "    \"hip hop\": hiphop_data,\n",
    "    \"edm\": edm_data,\n",
    "    \"pop\": pop_data,\n",
    "    \"latin\": latin_data,\n",
    "    \"other\": other_data,\n",
    "    \"soul\": soul_data,\n",
    "    \"rap\": rap_data,\n",
    "    \"country\": country_data\n",
    "}\n",
    "\n",
    "genre = input(\"Enter a music genre: \")\n",
    "selected_data = music_genres.get(genre, None)\n",
    "\n",
    "if selected_data is not None:\n",
    "    fig = go.Figure(data=[go.Pie(labels=selected_data['type'], values=selected_data['percentage'])])\n",
    "    fig.update_layout(title=f'Mode Percentage for {genre}')\n",
    "    fig.show()\n",
    "else:\n",
    "    print(\"Genre not found in the dictionary\")"
   ]
  },
  {
   "cell_type": "code",
   "execution_count": 79,
   "id": "4657557f-c1f7-4d47-b7ff-e3fe8c6ef897",
   "metadata": {
    "tags": []
   },
   "outputs": [
    {
     "name": "stdin",
     "output_type": "stream",
     "text": [
      "Enter a music genre:  pop\n"
     ]
    },
    {
     "data": {
      "application/vnd.plotly.v1+json": {
       "config": {
        "plotlyServerURL": "https://plot.ly"
       },
       "data": [
        {
         "labels": [
          "Major",
          "Minor"
         ],
         "type": "pie",
         "values": [
          63.32,
          36.68
         ]
        }
       ],
       "layout": {
        "autosize": true,
        "template": {
         "data": {
          "bar": [
           {
            "error_x": {
             "color": "#2a3f5f"
            },
            "error_y": {
             "color": "#2a3f5f"
            },
            "marker": {
             "line": {
              "color": "#E5ECF6",
              "width": 0.5
             },
             "pattern": {
              "fillmode": "overlay",
              "size": 10,
              "solidity": 0.2
             }
            },
            "type": "bar"
           }
          ],
          "barpolar": [
           {
            "marker": {
             "line": {
              "color": "#E5ECF6",
              "width": 0.5
             },
             "pattern": {
              "fillmode": "overlay",
              "size": 10,
              "solidity": 0.2
             }
            },
            "type": "barpolar"
           }
          ],
          "carpet": [
           {
            "aaxis": {
             "endlinecolor": "#2a3f5f",
             "gridcolor": "white",
             "linecolor": "white",
             "minorgridcolor": "white",
             "startlinecolor": "#2a3f5f"
            },
            "baxis": {
             "endlinecolor": "#2a3f5f",
             "gridcolor": "white",
             "linecolor": "white",
             "minorgridcolor": "white",
             "startlinecolor": "#2a3f5f"
            },
            "type": "carpet"
           }
          ],
          "choropleth": [
           {
            "colorbar": {
             "outlinewidth": 0,
             "ticks": ""
            },
            "type": "choropleth"
           }
          ],
          "contour": [
           {
            "colorbar": {
             "outlinewidth": 0,
             "ticks": ""
            },
            "colorscale": [
             [
              0,
              "#0d0887"
             ],
             [
              0.1111111111111111,
              "#46039f"
             ],
             [
              0.2222222222222222,
              "#7201a8"
             ],
             [
              0.3333333333333333,
              "#9c179e"
             ],
             [
              0.4444444444444444,
              "#bd3786"
             ],
             [
              0.5555555555555556,
              "#d8576b"
             ],
             [
              0.6666666666666666,
              "#ed7953"
             ],
             [
              0.7777777777777778,
              "#fb9f3a"
             ],
             [
              0.8888888888888888,
              "#fdca26"
             ],
             [
              1,
              "#f0f921"
             ]
            ],
            "type": "contour"
           }
          ],
          "contourcarpet": [
           {
            "colorbar": {
             "outlinewidth": 0,
             "ticks": ""
            },
            "type": "contourcarpet"
           }
          ],
          "heatmap": [
           {
            "colorbar": {
             "outlinewidth": 0,
             "ticks": ""
            },
            "colorscale": [
             [
              0,
              "#0d0887"
             ],
             [
              0.1111111111111111,
              "#46039f"
             ],
             [
              0.2222222222222222,
              "#7201a8"
             ],
             [
              0.3333333333333333,
              "#9c179e"
             ],
             [
              0.4444444444444444,
              "#bd3786"
             ],
             [
              0.5555555555555556,
              "#d8576b"
             ],
             [
              0.6666666666666666,
              "#ed7953"
             ],
             [
              0.7777777777777778,
              "#fb9f3a"
             ],
             [
              0.8888888888888888,
              "#fdca26"
             ],
             [
              1,
              "#f0f921"
             ]
            ],
            "type": "heatmap"
           }
          ],
          "heatmapgl": [
           {
            "colorbar": {
             "outlinewidth": 0,
             "ticks": ""
            },
            "colorscale": [
             [
              0,
              "#0d0887"
             ],
             [
              0.1111111111111111,
              "#46039f"
             ],
             [
              0.2222222222222222,
              "#7201a8"
             ],
             [
              0.3333333333333333,
              "#9c179e"
             ],
             [
              0.4444444444444444,
              "#bd3786"
             ],
             [
              0.5555555555555556,
              "#d8576b"
             ],
             [
              0.6666666666666666,
              "#ed7953"
             ],
             [
              0.7777777777777778,
              "#fb9f3a"
             ],
             [
              0.8888888888888888,
              "#fdca26"
             ],
             [
              1,
              "#f0f921"
             ]
            ],
            "type": "heatmapgl"
           }
          ],
          "histogram": [
           {
            "marker": {
             "pattern": {
              "fillmode": "overlay",
              "size": 10,
              "solidity": 0.2
             }
            },
            "type": "histogram"
           }
          ],
          "histogram2d": [
           {
            "colorbar": {
             "outlinewidth": 0,
             "ticks": ""
            },
            "colorscale": [
             [
              0,
              "#0d0887"
             ],
             [
              0.1111111111111111,
              "#46039f"
             ],
             [
              0.2222222222222222,
              "#7201a8"
             ],
             [
              0.3333333333333333,
              "#9c179e"
             ],
             [
              0.4444444444444444,
              "#bd3786"
             ],
             [
              0.5555555555555556,
              "#d8576b"
             ],
             [
              0.6666666666666666,
              "#ed7953"
             ],
             [
              0.7777777777777778,
              "#fb9f3a"
             ],
             [
              0.8888888888888888,
              "#fdca26"
             ],
             [
              1,
              "#f0f921"
             ]
            ],
            "type": "histogram2d"
           }
          ],
          "histogram2dcontour": [
           {
            "colorbar": {
             "outlinewidth": 0,
             "ticks": ""
            },
            "colorscale": [
             [
              0,
              "#0d0887"
             ],
             [
              0.1111111111111111,
              "#46039f"
             ],
             [
              0.2222222222222222,
              "#7201a8"
             ],
             [
              0.3333333333333333,
              "#9c179e"
             ],
             [
              0.4444444444444444,
              "#bd3786"
             ],
             [
              0.5555555555555556,
              "#d8576b"
             ],
             [
              0.6666666666666666,
              "#ed7953"
             ],
             [
              0.7777777777777778,
              "#fb9f3a"
             ],
             [
              0.8888888888888888,
              "#fdca26"
             ],
             [
              1,
              "#f0f921"
             ]
            ],
            "type": "histogram2dcontour"
           }
          ],
          "mesh3d": [
           {
            "colorbar": {
             "outlinewidth": 0,
             "ticks": ""
            },
            "type": "mesh3d"
           }
          ],
          "parcoords": [
           {
            "line": {
             "colorbar": {
              "outlinewidth": 0,
              "ticks": ""
             }
            },
            "type": "parcoords"
           }
          ],
          "pie": [
           {
            "automargin": true,
            "type": "pie"
           }
          ],
          "scatter": [
           {
            "fillpattern": {
             "fillmode": "overlay",
             "size": 10,
             "solidity": 0.2
            },
            "type": "scatter"
           }
          ],
          "scatter3d": [
           {
            "line": {
             "colorbar": {
              "outlinewidth": 0,
              "ticks": ""
             }
            },
            "marker": {
             "colorbar": {
              "outlinewidth": 0,
              "ticks": ""
             }
            },
            "type": "scatter3d"
           }
          ],
          "scattercarpet": [
           {
            "marker": {
             "colorbar": {
              "outlinewidth": 0,
              "ticks": ""
             }
            },
            "type": "scattercarpet"
           }
          ],
          "scattergeo": [
           {
            "marker": {
             "colorbar": {
              "outlinewidth": 0,
              "ticks": ""
             }
            },
            "type": "scattergeo"
           }
          ],
          "scattergl": [
           {
            "marker": {
             "colorbar": {
              "outlinewidth": 0,
              "ticks": ""
             }
            },
            "type": "scattergl"
           }
          ],
          "scattermapbox": [
           {
            "marker": {
             "colorbar": {
              "outlinewidth": 0,
              "ticks": ""
             }
            },
            "type": "scattermapbox"
           }
          ],
          "scatterpolar": [
           {
            "marker": {
             "colorbar": {
              "outlinewidth": 0,
              "ticks": ""
             }
            },
            "type": "scatterpolar"
           }
          ],
          "scatterpolargl": [
           {
            "marker": {
             "colorbar": {
              "outlinewidth": 0,
              "ticks": ""
             }
            },
            "type": "scatterpolargl"
           }
          ],
          "scatterternary": [
           {
            "marker": {
             "colorbar": {
              "outlinewidth": 0,
              "ticks": ""
             }
            },
            "type": "scatterternary"
           }
          ],
          "surface": [
           {
            "colorbar": {
             "outlinewidth": 0,
             "ticks": ""
            },
            "colorscale": [
             [
              0,
              "#0d0887"
             ],
             [
              0.1111111111111111,
              "#46039f"
             ],
             [
              0.2222222222222222,
              "#7201a8"
             ],
             [
              0.3333333333333333,
              "#9c179e"
             ],
             [
              0.4444444444444444,
              "#bd3786"
             ],
             [
              0.5555555555555556,
              "#d8576b"
             ],
             [
              0.6666666666666666,
              "#ed7953"
             ],
             [
              0.7777777777777778,
              "#fb9f3a"
             ],
             [
              0.8888888888888888,
              "#fdca26"
             ],
             [
              1,
              "#f0f921"
             ]
            ],
            "type": "surface"
           }
          ],
          "table": [
           {
            "cells": {
             "fill": {
              "color": "#EBF0F8"
             },
             "line": {
              "color": "white"
             }
            },
            "header": {
             "fill": {
              "color": "#C8D4E3"
             },
             "line": {
              "color": "white"
             }
            },
            "type": "table"
           }
          ]
         },
         "layout": {
          "annotationdefaults": {
           "arrowcolor": "#2a3f5f",
           "arrowhead": 0,
           "arrowwidth": 1
          },
          "autotypenumbers": "strict",
          "coloraxis": {
           "colorbar": {
            "outlinewidth": 0,
            "ticks": ""
           }
          },
          "colorscale": {
           "diverging": [
            [
             0,
             "#8e0152"
            ],
            [
             0.1,
             "#c51b7d"
            ],
            [
             0.2,
             "#de77ae"
            ],
            [
             0.3,
             "#f1b6da"
            ],
            [
             0.4,
             "#fde0ef"
            ],
            [
             0.5,
             "#f7f7f7"
            ],
            [
             0.6,
             "#e6f5d0"
            ],
            [
             0.7,
             "#b8e186"
            ],
            [
             0.8,
             "#7fbc41"
            ],
            [
             0.9,
             "#4d9221"
            ],
            [
             1,
             "#276419"
            ]
           ],
           "sequential": [
            [
             0,
             "#0d0887"
            ],
            [
             0.1111111111111111,
             "#46039f"
            ],
            [
             0.2222222222222222,
             "#7201a8"
            ],
            [
             0.3333333333333333,
             "#9c179e"
            ],
            [
             0.4444444444444444,
             "#bd3786"
            ],
            [
             0.5555555555555556,
             "#d8576b"
            ],
            [
             0.6666666666666666,
             "#ed7953"
            ],
            [
             0.7777777777777778,
             "#fb9f3a"
            ],
            [
             0.8888888888888888,
             "#fdca26"
            ],
            [
             1,
             "#f0f921"
            ]
           ],
           "sequentialminus": [
            [
             0,
             "#0d0887"
            ],
            [
             0.1111111111111111,
             "#46039f"
            ],
            [
             0.2222222222222222,
             "#7201a8"
            ],
            [
             0.3333333333333333,
             "#9c179e"
            ],
            [
             0.4444444444444444,
             "#bd3786"
            ],
            [
             0.5555555555555556,
             "#d8576b"
            ],
            [
             0.6666666666666666,
             "#ed7953"
            ],
            [
             0.7777777777777778,
             "#fb9f3a"
            ],
            [
             0.8888888888888888,
             "#fdca26"
            ],
            [
             1,
             "#f0f921"
            ]
           ]
          },
          "colorway": [
           "#636efa",
           "#EF553B",
           "#00cc96",
           "#ab63fa",
           "#FFA15A",
           "#19d3f3",
           "#FF6692",
           "#B6E880",
           "#FF97FF",
           "#FECB52"
          ],
          "font": {
           "color": "#2a3f5f"
          },
          "geo": {
           "bgcolor": "white",
           "lakecolor": "white",
           "landcolor": "#E5ECF6",
           "showlakes": true,
           "showland": true,
           "subunitcolor": "white"
          },
          "hoverlabel": {
           "align": "left"
          },
          "hovermode": "closest",
          "mapbox": {
           "style": "light"
          },
          "paper_bgcolor": "white",
          "plot_bgcolor": "#E5ECF6",
          "polar": {
           "angularaxis": {
            "gridcolor": "white",
            "linecolor": "white",
            "ticks": ""
           },
           "bgcolor": "#E5ECF6",
           "radialaxis": {
            "gridcolor": "white",
            "linecolor": "white",
            "ticks": ""
           }
          },
          "scene": {
           "xaxis": {
            "backgroundcolor": "#E5ECF6",
            "gridcolor": "white",
            "gridwidth": 2,
            "linecolor": "white",
            "showbackground": true,
            "ticks": "",
            "zerolinecolor": "white"
           },
           "yaxis": {
            "backgroundcolor": "#E5ECF6",
            "gridcolor": "white",
            "gridwidth": 2,
            "linecolor": "white",
            "showbackground": true,
            "ticks": "",
            "zerolinecolor": "white"
           },
           "zaxis": {
            "backgroundcolor": "#E5ECF6",
            "gridcolor": "white",
            "gridwidth": 2,
            "linecolor": "white",
            "showbackground": true,
            "ticks": "",
            "zerolinecolor": "white"
           }
          },
          "shapedefaults": {
           "line": {
            "color": "#2a3f5f"
           }
          },
          "ternary": {
           "aaxis": {
            "gridcolor": "white",
            "linecolor": "white",
            "ticks": ""
           },
           "baxis": {
            "gridcolor": "white",
            "linecolor": "white",
            "ticks": ""
           },
           "bgcolor": "#E5ECF6",
           "caxis": {
            "gridcolor": "white",
            "linecolor": "white",
            "ticks": ""
           }
          },
          "title": {
           "x": 0.05
          },
          "xaxis": {
           "automargin": true,
           "gridcolor": "white",
           "linecolor": "white",
           "ticks": "",
           "title": {
            "standoff": 15
           },
           "zerolinecolor": "white",
           "zerolinewidth": 2
          },
          "yaxis": {
           "automargin": true,
           "gridcolor": "white",
           "linecolor": "white",
           "ticks": "",
           "title": {
            "standoff": 15
           },
           "zerolinecolor": "white",
           "zerolinewidth": 2
          }
         }
        },
        "title": {
         "text": "Mode Percentage for pop"
        }
       }
      },
      "image/png": "[encoded data removed]",
      "text/html": [
       "<div>                            <div id=\"84ee4d17-0aaa-4305-9fc5-e91ff34ec89d\" class=\"plotly-graph-div\" style=\"height:525px; width:100%;\"></div>            <script type=\"text/javascript\">                require([\"plotly\"], function(Plotly) {                    window.PLOTLYENV=window.PLOTLYENV || {};                                    if (document.getElementById(\"84ee4d17-0aaa-4305-9fc5-e91ff34ec89d\")) {                    Plotly.newPlot(                        \"84ee4d17-0aaa-4305-9fc5-e91ff34ec89d\",                        [{\"labels\":[\"Major\",\"Minor\"],\"values\":[63.32,36.68],\"type\":\"pie\"}],                        {\"template\":{\"data\":{\"histogram2dcontour\":[{\"type\":\"histogram2dcontour\",\"colorbar\":{\"outlinewidth\":0,\"ticks\":\"\"},\"colorscale\":[[0.0,\"#0d0887\"],[0.1111111111111111,\"#46039f\"],[0.2222222222222222,\"#7201a8\"],[0.3333333333333333,\"#9c179e\"],[0.4444444444444444,\"#bd3786\"],[0.5555555555555556,\"#d8576b\"],[0.6666666666666666,\"#ed7953\"],[0.7777777777777778,\"#fb9f3a\"],[0.8888888888888888,\"#fdca26\"],[1.0,\"#f0f921\"]]}],\"choropleth\":[{\"type\":\"choropleth\",\"colorbar\":{\"outlinewidth\":0,\"ticks\":\"\"}}],\"histogram2d\":[{\"type\":\"histogram2d\",\"colorbar\":{\"outlinewidth\":0,\"ticks\":\"\"},\"colorscale\":[[0.0,\"#0d0887\"],[0.1111111111111111,\"#46039f\"],[0.2222222222222222,\"#7201a8\"],[0.3333333333333333,\"#9c179e\"],[0.4444444444444444,\"#bd3786\"],[0.5555555555555556,\"#d8576b\"],[0.6666666666666666,\"#ed7953\"],[0.7777777777777778,\"#fb9f3a\"],[0.8888888888888888,\"#fdca26\"],[1.0,\"#f0f921\"]]}],\"heatmap\":[{\"type\":\"heatmap\",\"colorbar\":{\"outlinewidth\":0,\"ticks\":\"\"},\"colorscale\":[[0.0,\"#0d0887\"],[0.1111111111111111,\"#46039f\"],[0.2222222222222222,\"#7201a8\"],[0.3333333333333333,\"#9c179e\"],[0.4444444444444444,\"#bd3786\"],[0.5555555555555556,\"#d8576b\"],[0.6666666666666666,\"#ed7953\"],[0.7777777777777778,\"#fb9f3a\"],[0.8888888888888888,\"#fdca26\"],[1.0,\"#f0f921\"]]}],\"heatmapgl\":[{\"type\":\"heatmapgl\",\"colorbar\":{\"outlinewidth\":0,\"ticks\":\"\"},\"colorscale\":[[0.0,\"#0d0887\"],[0.1111111111111111,\"#46039f\"],[0.2222222222222222,\"#7201a8\"],[0.3333333333333333,\"#9c179e\"],[0.4444444444444444,\"#bd3786\"],[0.5555555555555556,\"#d8576b\"],[0.6666666666666666,\"#ed7953\"],[0.7777777777777778,\"#fb9f3a\"],[0.8888888888888888,\"#fdca26\"],[1.0,\"#f0f921\"]]}],\"contourcarpet\":[{\"type\":\"contourcarpet\",\"colorbar\":{\"outlinewidth\":0,\"ticks\":\"\"}}],\"contour\":[{\"type\":\"contour\",\"colorbar\":{\"outlinewidth\":0,\"ticks\":\"\"},\"colorscale\":[[0.0,\"#0d0887\"],[0.1111111111111111,\"#46039f\"],[0.2222222222222222,\"#7201a8\"],[0.3333333333333333,\"#9c179e\"],[0.4444444444444444,\"#bd3786\"],[0.5555555555555556,\"#d8576b\"],[0.6666666666666666,\"#ed7953\"],[0.7777777777777778,\"#fb9f3a\"],[0.8888888888888888,\"#fdca26\"],[1.0,\"#f0f921\"]]}],\"surface\":[{\"type\":\"surface\",\"colorbar\":{\"outlinewidth\":0,\"ticks\":\"\"},\"colorscale\":[[0.0,\"#0d0887\"],[0.1111111111111111,\"#46039f\"],[0.2222222222222222,\"#7201a8\"],[0.3333333333333333,\"#9c179e\"],[0.4444444444444444,\"#bd3786\"],[0.5555555555555556,\"#d8576b\"],[0.6666666666666666,\"#ed7953\"],[0.7777777777777778,\"#fb9f3a\"],[0.8888888888888888,\"#fdca26\"],[1.0,\"#f0f921\"]]}],\"mesh3d\":[{\"type\":\"mesh3d\",\"colorbar\":{\"outlinewidth\":0,\"ticks\":\"\"}}],\"scatter\":[{\"fillpattern\":{\"fillmode\":\"overlay\",\"size\":10,\"solidity\":0.2},\"type\":\"scatter\"}],\"parcoords\":[{\"type\":\"parcoords\",\"line\":{\"colorbar\":{\"outlinewidth\":0,\"ticks\":\"\"}}}],\"scatterpolargl\":[{\"type\":\"scatterpolargl\",\"marker\":{\"colorbar\":{\"outlinewidth\":0,\"ticks\":\"\"}}}],\"bar\":[{\"error_x\":{\"color\":\"#2a3f5f\"},\"error_y\":{\"color\":\"#2a3f5f\"},\"marker\":{\"line\":{\"color\":\"#E5ECF6\",\"width\":0.5},\"pattern\":{\"fillmode\":\"overlay\",\"size\":10,\"solidity\":0.2}},\"type\":\"bar\"}],\"scattergeo\":[{\"type\":\"scattergeo\",\"marker\":{\"colorbar\":{\"outlinewidth\":0,\"ticks\":\"\"}}}],\"scatterpolar\":[{\"type\":\"scatterpolar\",\"marker\":{\"colorbar\":{\"outlinewidth\":0,\"ticks\":\"\"}}}],\"histogram\":[{\"marker\":{\"pattern\":{\"fillmode\":\"overlay\",\"size\":10,\"solidity\":0.2}},\"type\":\"histogram\"}],\"scattergl\":[{\"type\":\"scattergl\",\"marker\":{\"colorbar\":{\"outlinewidth\":0,\"ticks\":\"\"}}}],\"scatter3d\":[{\"type\":\"scatter3d\",\"line\":{\"colorbar\":{\"outlinewidth\":0,\"ticks\":\"\"}},\"marker\":{\"colorbar\":{\"outlinewidth\":0,\"ticks\":\"\"}}}],\"scattermapbox\":[{\"type\":\"scattermapbox\",\"marker\":{\"colorbar\":{\"outlinewidth\":0,\"ticks\":\"\"}}}],\"scatterternary\":[{\"type\":\"scatterternary\",\"marker\":{\"colorbar\":{\"outlinewidth\":0,\"ticks\":\"\"}}}],\"scattercarpet\":[{\"type\":\"scattercarpet\",\"marker\":{\"colorbar\":{\"outlinewidth\":0,\"ticks\":\"\"}}}],\"carpet\":[{\"aaxis\":{\"endlinecolor\":\"#2a3f5f\",\"gridcolor\":\"white\",\"linecolor\":\"white\",\"minorgridcolor\":\"white\",\"startlinecolor\":\"#2a3f5f\"},\"baxis\":{\"endlinecolor\":\"#2a3f5f\",\"gridcolor\":\"white\",\"linecolor\":\"white\",\"minorgridcolor\":\"white\",\"startlinecolor\":\"#2a3f5f\"},\"type\":\"carpet\"}],\"table\":[{\"cells\":{\"fill\":{\"color\":\"#EBF0F8\"},\"line\":{\"color\":\"white\"}},\"header\":{\"fill\":{\"color\":\"#C8D4E3\"},\"line\":{\"color\":\"white\"}},\"type\":\"table\"}],\"barpolar\":[{\"marker\":{\"line\":{\"color\":\"#E5ECF6\",\"width\":0.5},\"pattern\":{\"fillmode\":\"overlay\",\"size\":10,\"solidity\":0.2}},\"type\":\"barpolar\"}],\"pie\":[{\"automargin\":true,\"type\":\"pie\"}]},\"layout\":{\"autotypenumbers\":\"strict\",\"colorway\":[\"#636efa\",\"#EF553B\",\"#00cc96\",\"#ab63fa\",\"#FFA15A\",\"#19d3f3\",\"#FF6692\",\"#B6E880\",\"#FF97FF\",\"#FECB52\"],\"font\":{\"color\":\"#2a3f5f\"},\"hovermode\":\"closest\",\"hoverlabel\":{\"align\":\"left\"},\"paper_bgcolor\":\"white\",\"plot_bgcolor\":\"#E5ECF6\",\"polar\":{\"bgcolor\":\"#E5ECF6\",\"angularaxis\":{\"gridcolor\":\"white\",\"linecolor\":\"white\",\"ticks\":\"\"},\"radialaxis\":{\"gridcolor\":\"white\",\"linecolor\":\"white\",\"ticks\":\"\"}},\"ternary\":{\"bgcolor\":\"#E5ECF6\",\"aaxis\":{\"gridcolor\":\"white\",\"linecolor\":\"white\",\"ticks\":\"\"},\"baxis\":{\"gridcolor\":\"white\",\"linecolor\":\"white\",\"ticks\":\"\"},\"caxis\":{\"gridcolor\":\"white\",\"linecolor\":\"white\",\"ticks\":\"\"}},\"coloraxis\":{\"colorbar\":{\"outlinewidth\":0,\"ticks\":\"\"}},\"colorscale\":{\"sequential\":[[0.0,\"#0d0887\"],[0.1111111111111111,\"#46039f\"],[0.2222222222222222,\"#7201a8\"],[0.3333333333333333,\"#9c179e\"],[0.4444444444444444,\"#bd3786\"],[0.5555555555555556,\"#d8576b\"],[0.6666666666666666,\"#ed7953\"],[0.7777777777777778,\"#fb9f3a\"],[0.8888888888888888,\"#fdca26\"],[1.0,\"#f0f921\"]],\"sequentialminus\":[[0.0,\"#0d0887\"],[0.1111111111111111,\"#46039f\"],[0.2222222222222222,\"#7201a8\"],[0.3333333333333333,\"#9c179e\"],[0.4444444444444444,\"#bd3786\"],[0.5555555555555556,\"#d8576b\"],[0.6666666666666666,\"#ed7953\"],[0.7777777777777778,\"#fb9f3a\"],[0.8888888888888888,\"#fdca26\"],[1.0,\"#f0f921\"]],\"diverging\":[[0,\"#8e0152\"],[0.1,\"#c51b7d\"],[0.2,\"#de77ae\"],[0.3,\"#f1b6da\"],[0.4,\"#fde0ef\"],[0.5,\"#f7f7f7\"],[0.6,\"#e6f5d0\"],[0.7,\"#b8e186\"],[0.8,\"#7fbc41\"],[0.9,\"#4d9221\"],[1,\"#276419\"]]},\"xaxis\":{\"gridcolor\":\"white\",\"linecolor\":\"white\",\"ticks\":\"\",\"title\":{\"standoff\":15},\"zerolinecolor\":\"white\",\"automargin\":true,\"zerolinewidth\":2},\"yaxis\":{\"gridcolor\":\"white\",\"linecolor\":\"white\",\"ticks\":\"\",\"title\":{\"standoff\":15},\"zerolinecolor\":\"white\",\"automargin\":true,\"zerolinewidth\":2},\"scene\":{\"xaxis\":{\"backgroundcolor\":\"#E5ECF6\",\"gridcolor\":\"white\",\"linecolor\":\"white\",\"showbackground\":true,\"ticks\":\"\",\"zerolinecolor\":\"white\",\"gridwidth\":2},\"yaxis\":{\"backgroundcolor\":\"#E5ECF6\",\"gridcolor\":\"white\",\"linecolor\":\"white\",\"showbackground\":true,\"ticks\":\"\",\"zerolinecolor\":\"white\",\"gridwidth\":2},\"zaxis\":{\"backgroundcolor\":\"#E5ECF6\",\"gridcolor\":\"white\",\"linecolor\":\"white\",\"showbackground\":true,\"ticks\":\"\",\"zerolinecolor\":\"white\",\"gridwidth\":2}},\"shapedefaults\":{\"line\":{\"color\":\"#2a3f5f\"}},\"annotationdefaults\":{\"arrowcolor\":\"#2a3f5f\",\"arrowhead\":0,\"arrowwidth\":1},\"geo\":{\"bgcolor\":\"white\",\"landcolor\":\"#E5ECF6\",\"subunitcolor\":\"white\",\"showland\":true,\"showlakes\":true,\"lakecolor\":\"white\"},\"title\":{\"x\":0.05},\"mapbox\":{\"style\":\"light\"}}},\"title\":{\"text\":\"Mode Percentage for pop\"}},                        {\"responsive\": true}                    ).then(function(){\n",
       "                            \n",
       "var gd = document.getElementById('84ee4d17-0aaa-4305-9fc5-e91ff34ec89d');\n",
       "var x = new MutationObserver(function (mutations, observer) {{\n",
       "        var display = window.getComputedStyle(gd).display;\n",
       "        if (!display || display === 'none') {{\n",
       "            console.log([gd, 'removed!']);\n",
       "            Plotly.purge(gd);\n",
       "            observer.disconnect();\n",
       "        }}\n",
       "}});\n",
       "\n",
       "// Listen for the removal of the full notebook cells\n",
       "var notebookContainer = gd.closest('#notebook-container');\n",
       "if (notebookContainer) {{\n",
       "    x.observe(notebookContainer, {childList: true});\n",
       "}}\n",
       "\n",
       "// Listen for the clearing of the current output cell\n",
       "var outputEl = gd.closest('.output');\n",
       "if (outputEl) {{\n",
       "    x.observe(outputEl, {childList: true});\n",
       "}}\n",
       "\n",
       "                        })                };                });            </script>        </div>"
      ]
     },
     "metadata": {},
     "output_type": "display_data"
    }
   ],
   "source": [
    "#cleaner code than above (let John and Bella decide which ones stay in)\n",
    "genre = input(\"Enter a music genre: \")\n",
    "selected_data = mode_perc[mode_perc['main_genre'] == genre]\n",
    "\n",
    "if not selected_data.empty:\n",
    "    fig = go.Figure(data=[go.Pie(labels=selected_data['type'], values=selected_data['percentage'])])\n",
    "    fig.update_layout(title=f'Mode Percentage for {genre}')\n",
    "    fig.show()\n",
    "else:\n",
    "    print(\"Genre not found in the dataset\")"
   ]
  },
  {
   "cell_type": "code",
   "execution_count": null,
   "id": "46c71d7e-1777-4058-bdf3-138a23aba3d5",
   "metadata": {},
   "outputs": [],
   "source": []
  }
 ],
 "metadata": {
  "kernelspec": {
   "display_name": "Python 3 (ipykernel)",
   "language": "python",
   "name": "python3"
  },
  "language_info": {
   "codemirror_mode": {
    "name": "ipython",
    "version": 3
   },
   "file_extension": ".py",
   "mimetype": "text/x-python",
   "name": "python",
   "nbconvert_exporter": "python",
   "pygments_lexer": "ipython3",
   "version": "3.11.4"
  }
 },
 "nbformat": 4,
 "nbformat_minor": 5
}
